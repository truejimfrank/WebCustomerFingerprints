{
 "cells": [
  {
   "cell_type": "code",
   "execution_count": 1,
   "metadata": {},
   "outputs": [],
   "source": [
    "import pandas as pd\n",
    "import numpy as np"
   ]
  },
  {
   "cell_type": "code",
   "execution_count": 17,
   "metadata": {},
   "outputs": [],
   "source": [
    "dfevents = pd.read_csv('../../data/ecommerce/events.csv')"
   ]
  },
  {
   "cell_type": "code",
   "execution_count": null,
   "metadata": {},
   "outputs": [],
   "source": [
    "dfevents.info()"
   ]
  },
  {
   "cell_type": "code",
   "execution_count": 2,
   "metadata": {},
   "outputs": [],
   "source": [
    "#gensim\n",
    "import gensim\n",
    "from gensim.utils import simple_preprocess\n",
    "# from gensim.parsing.preprocessing import STOPWORDS\n",
    "import gensim.corpora as corpora\n",
    "from gensim.models import CoherenceModel\n",
    "\n",
    "# Plotting tools\n",
    "import pyLDAvis\n",
    "import pyLDAvis.gensim  # don't skip this\n",
    "import datetime"
   ]
  },
  {
   "cell_type": "code",
   "execution_count": 18,
   "metadata": {},
   "outputs": [],
   "source": [
    "times=[]  # convert from unix time format\n",
    "for i in dfevents['timestamp']:\n",
    "    times.append(datetime.datetime.fromtimestamp(i//1000.0))\n",
    "dfevents['timestamp']=times"
   ]
  },
  {
   "cell_type": "code",
   "execution_count": 11,
   "metadata": {},
   "outputs": [
    {
     "data": {
      "text/html": [
       "<div>\n",
       "<style scoped>\n",
       "    .dataframe tbody tr th:only-of-type {\n",
       "        vertical-align: middle;\n",
       "    }\n",
       "\n",
       "    .dataframe tbody tr th {\n",
       "        vertical-align: top;\n",
       "    }\n",
       "\n",
       "    .dataframe thead th {\n",
       "        text-align: right;\n",
       "    }\n",
       "</style>\n",
       "<table border=\"1\" class=\"dataframe\">\n",
       "  <thead>\n",
       "    <tr style=\"text-align: right;\">\n",
       "      <th></th>\n",
       "      <th>timestamp</th>\n",
       "      <th>visitorid</th>\n",
       "      <th>event</th>\n",
       "      <th>itemid</th>\n",
       "      <th>transactionid</th>\n",
       "    </tr>\n",
       "  </thead>\n",
       "  <tbody>\n",
       "    <tr>\n",
       "      <th>0</th>\n",
       "      <td>2015-06-01 23:02:12</td>\n",
       "      <td>257597</td>\n",
       "      <td>view</td>\n",
       "      <td>355908</td>\n",
       "      <td>NaN</td>\n",
       "    </tr>\n",
       "    <tr>\n",
       "      <th>1</th>\n",
       "      <td>2015-06-01 23:50:14</td>\n",
       "      <td>992329</td>\n",
       "      <td>view</td>\n",
       "      <td>248676</td>\n",
       "      <td>NaN</td>\n",
       "    </tr>\n",
       "    <tr>\n",
       "      <th>2</th>\n",
       "      <td>2015-06-01 23:13:19</td>\n",
       "      <td>111016</td>\n",
       "      <td>view</td>\n",
       "      <td>318965</td>\n",
       "      <td>NaN</td>\n",
       "    </tr>\n",
       "    <tr>\n",
       "      <th>3</th>\n",
       "      <td>2015-06-01 23:12:35</td>\n",
       "      <td>483717</td>\n",
       "      <td>view</td>\n",
       "      <td>253185</td>\n",
       "      <td>NaN</td>\n",
       "    </tr>\n",
       "    <tr>\n",
       "      <th>4</th>\n",
       "      <td>2015-06-01 23:02:17</td>\n",
       "      <td>951259</td>\n",
       "      <td>view</td>\n",
       "      <td>367447</td>\n",
       "      <td>NaN</td>\n",
       "    </tr>\n",
       "  </tbody>\n",
       "</table>\n",
       "</div>"
      ],
      "text/plain": [
       "            timestamp  visitorid event  itemid  transactionid\n",
       "0 2015-06-01 23:02:12     257597  view  355908            NaN\n",
       "1 2015-06-01 23:50:14     992329  view  248676            NaN\n",
       "2 2015-06-01 23:13:19     111016  view  318965            NaN\n",
       "3 2015-06-01 23:12:35     483717  view  253185            NaN\n",
       "4 2015-06-01 23:02:17     951259  view  367447            NaN"
      ]
     },
     "execution_count": 11,
     "metadata": {},
     "output_type": "execute_result"
    }
   ],
   "source": [
    "dfevents.head()"
   ]
  },
  {
   "cell_type": "code",
   "execution_count": 13,
   "metadata": {},
   "outputs": [
    {
     "data": {
      "text/plain": [
       "event\n",
       "addtocart      [5206, 10572, 255275, 356475, 312728, 63312, 1...\n",
       "transaction    [356475, 15335, 81345, 150318, 310791, 54058, ...\n",
       "view           [355908, 248676, 318965, 253185, 367447, 22556...\n",
       "Name: itemid, dtype: object"
      ]
     },
     "execution_count": 13,
     "metadata": {},
     "output_type": "execute_result"
    }
   ],
   "source": [
    "e_groups = dfevents.groupby('event')['itemid'].apply(list)\n",
    "e_groups"
   ]
  },
  {
   "cell_type": "code",
   "execution_count": null,
   "metadata": {},
   "outputs": [],
   "source": [
    "dfevents['itemid'] = dfevents['itemid'].astype('str')\n",
    "# dfevents['itemid'].astype('str').dtype\n",
    "dfevents.info()"
   ]
  },
  {
   "cell_type": "code",
   "execution_count": 21,
   "metadata": {},
   "outputs": [
    {
     "data": {
      "text/plain": [
       "(1407580,)"
      ]
     },
     "execution_count": 21,
     "metadata": {},
     "output_type": "execute_result"
    }
   ],
   "source": [
    "dfcluster = dfevents.groupby('visitorid')['itemid'].apply(list)\n",
    "dfcluster.shape  # this takes several minutes to run. 1407580 unique users"
   ]
  },
  {
   "cell_type": "code",
   "execution_count": 19,
   "metadata": {},
   "outputs": [],
   "source": [
    "dfcluster.to_pickle('../../data/ecommerce/cust_prod_cluster.pkl', compression='zip')"
   ]
  },
  {
   "cell_type": "code",
   "execution_count": 27,
   "metadata": {},
   "outputs": [],
   "source": [
    "SeriesList = pd.read_pickle('../../data/ecommerce/cust_prod_cluster.pkl', compression='zip')\n",
    "# dfcluster.head()"
   ]
  },
  {
   "cell_type": "code",
   "execution_count": null,
   "metadata": {},
   "outputs": [],
   "source": [
    "dfcluster = pd.DataFrame(dfcluster)\n",
    "# dfcluster.head()"
   ]
  },
  {
   "cell_type": "code",
   "execution_count": 25,
   "metadata": {},
   "outputs": [],
   "source": [
    "dfcluster['item_count'] = dfcluster['itemid'].apply(len)\n",
    "# dfcluster['itemid'].apply(len)[:10]"
   ]
  },
  {
   "cell_type": "code",
   "execution_count": null,
   "metadata": {},
   "outputs": [],
   "source": [
    "dfcluster.rename(columns={\"itemid\": \"product_list\"}, inplace=True)\n",
    "dfcluster.head()"
   ]
  },
  {
   "cell_type": "code",
   "execution_count": 28,
   "metadata": {},
   "outputs": [
    {
     "data": {
      "text/plain": [
       "(406020, 2)"
      ]
     },
     "execution_count": 28,
     "metadata": {},
     "output_type": "execute_result"
    }
   ],
   "source": [
    "dfcluster[dfcluster['item_count'] > 1].shape # compares to 1407580 unique users\n",
    "# 406,020  users with > 1 products interacted with"
   ]
  },
  {
   "cell_type": "code",
   "execution_count": 29,
   "metadata": {
    "scrolled": true
   },
   "outputs": [],
   "source": [
    "dfcluster[dfcluster['item_count'] > 1].to_pickle('../../data/ecommerce/cust_prod_clust2.pkl', compression='zip')"
   ]
  },
  {
   "cell_type": "code",
   "execution_count": 87,
   "metadata": {},
   "outputs": [
    {
     "name": "stdout",
     "output_type": "stream",
     "text": [
      "(405924, 2)\n"
     ]
    }
   ],
   "source": [
    "# dfcluster = pd.read_pickle('../../data/ecommerce/cust_prod_clust2.pkl', compression='zip')\n",
    "dfcluster.head()\n",
    "dfcluster = dfcluster[dfcluster['item_count'] < 400]\n",
    "print(dfcluster.shape)\n",
    "# dfcluster['item_count'].sort_values(ascending=False)[50:100]"
   ]
  },
  {
   "cell_type": "code",
   "execution_count": 88,
   "metadata": {},
   "outputs": [
    {
     "data": {
      "text/plain": [
       "<matplotlib.axes._subplots.AxesSubplot at 0x7f933e484438>"
      ]
     },
     "execution_count": 88,
     "metadata": {},
     "output_type": "execute_result"
    },
    {
     "data": {
      "image/png": "[encoded data removed]",
      "text/plain": [
       "<Figure size 432x288 with 1 Axes>"
      ]
     },
     "metadata": {
      "needs_background": "light"
     },
     "output_type": "display_data"
    }
   ],
   "source": [
    "dfcluster['item_count'].plot('hist', bins=20, log=True)"
   ]
  },
  {
   "cell_type": "code",
   "execution_count": 91,
   "metadata": {},
   "outputs": [],
   "source": [
    "gensim_processed = dfcluster['product_list']\n",
    "#create dictionary\n",
    "id2word = gensim.corpora.Dictionary(gensim_processed)"
   ]
  },
  {
   "cell_type": "markdown",
   "metadata": {},
   "source": [
    "Filter out tokens that appear in (tokens = products)  \n",
    "less than 15 documents (absolute number) or  \n",
    "more than 0.5 documents (fraction of total corpus size, not absolute number).  \n",
    "after the above two steps, keep only the first 100000 most frequent tokens.  "
   ]
  },
  {
   "cell_type": "code",
   "execution_count": 93,
   "metadata": {},
   "outputs": [],
   "source": [
    "id2word.filter_extremes(no_below=3, no_above=0.5, keep_n=200000)"
   ]
  },
  {
   "cell_type": "code",
   "execution_count": 94,
   "metadata": {},
   "outputs": [
    {
     "name": "stdout",
     "output_type": "stream",
     "text": [
      "(405924,)\n",
      "69549\n"
     ]
    }
   ],
   "source": [
    "print(gensim_processed.shape) # number of rows\n",
    "print(len(id2word)) # number of features sent to LDA model\n",
    "# test LDA model in lecture notebook is (10, 62245)\n",
    "# this LDA model with no filter_extremes (10, 163239)   \n",
    "# tested no_above. even at 0.4 has not effect"
   ]
  },
  {
   "cell_type": "code",
   "execution_count": 95,
   "metadata": {},
   "outputs": [],
   "source": [
    "#Term Product Frequency\n",
    "bow_corpus = [id2word.doc2bow(text) for text in gensim_processed]"
   ]
  },
  {
   "cell_type": "code",
   "execution_count": 96,
   "metadata": {},
   "outputs": [
    {
     "data": {
      "text/plain": [
       "[[('216305', 2), ('259884', 1), ('325215', 3), ('342816', 2)],\n",
       " [('253615', 1), ('344723', 4), ('65273', 1)]]"
      ]
     },
     "execution_count": 96,
     "metadata": {},
     "output_type": "execute_result"
    }
   ],
   "source": [
    "# Human readable format of corpus (term-frequency)\n",
    "[[(id2word[id], freq) for id, freq in cp] for cp in bow_corpus[1:3]]"
   ]
  },
  {
   "cell_type": "markdown",
   "metadata": {},
   "source": [
    "class gensim.models.ldamulticore.LdaMulticore(corpus=None, num_topics=100, id2word=None, workers=None, chunksize=2000, passes=1, batch=False, alpha='symmetric', eta=None, decay=0.5, offset=1.0, eval_every=10, iterations=50, gamma_threshold=0.001, random_state=None, minimum_probability=0.01, minimum_phi_value=0.01, per_word_topics=False, dtype=<class 'numpy.float32'>)"
   ]
  },
  {
   "cell_type": "code",
   "execution_count": 97,
   "metadata": {},
   "outputs": [],
   "source": [
    "# num_topics=10  # took about 3 minutes to run original. after filters, 1 min\n",
    "lda_model = gensim.models.LdaMulticore(bow_corpus, num_topics=10, id2word=id2word, \n",
    "                                       passes=2, workers=3, random_state=9)"
   ]
  },
  {
   "cell_type": "markdown",
   "metadata": {},
   "source": [
    "from gensim.test.utils import datapath  \n",
    "\n",
    "Save model to disk.  \n",
    "temp_file = datapath(\"model\")  \n",
    "lda.save(temp_file)  \n",
    "\n",
    "Load a potentially pretrained model from disk.  \n",
    "lda = LdaModel.load(temp_file)  "
   ]
  },
  {
   "cell_type": "code",
   "execution_count": null,
   "metadata": {},
   "outputs": [],
   "source": [
    "from pprint import pprint\n",
    "# Print the KeyProduct in the 10 topics\n",
    "pprint(lda_model.print_topics())"
   ]
  },
  {
   "cell_type": "code",
   "execution_count": 99,
   "metadata": {},
   "outputs": [
    {
     "name": "stdout",
     "output_type": "stream",
     "text": [
      "\n",
      "Perplexity:  -13.531439927018745\n",
      "\n",
      "Coherence Score:  0.6465475605570784\n"
     ]
    }
   ],
   "source": [
    "# Compute Perplexity  # took maybe 2 minutes to run\n",
    "print('\\nPerplexity: ', lda_model.log_perplexity(bow_corpus))  \n",
    "# a measure of how good the model is. lower the better.\n",
    "\n",
    "# Compute Coherence Score\n",
    "coherence_model_lda = CoherenceModel(model=lda_model, texts=gensim_processed, dictionary=id2word, coherence='c_v')\n",
    "coherence_lda = coherence_model_lda.get_coherence()\n",
    "print('\\nCoherence Score: ', coherence_lda)"
   ]
  },
  {
   "cell_type": "code",
   "execution_count": 42,
   "metadata": {},
   "outputs": [
    {
     "data": {
      "text/plain": [
       "<gensim.interfaces.TransformedCorpus at 0x7f931caa7e10>"
      ]
     },
     "execution_count": 42,
     "metadata": {},
     "output_type": "execute_result"
    }
   ],
   "source": [
    "row_lda = lda_model[bow_corpus]\n",
    "row_lda"
   ]
  },
  {
   "cell_type": "code",
   "execution_count": 100,
   "metadata": {},
   "outputs": [
    {
     "data": {
      "text/plain": [
       "(10, 69549)"
      ]
     },
     "execution_count": 100,
     "metadata": {},
     "output_type": "execute_result"
    }
   ],
   "source": [
    "lda_model.get_topics().shape  # test LDA model in lecture notebook is (10, 62245)"
   ]
  },
  {
   "cell_type": "code",
   "execution_count": 124,
   "metadata": {},
   "outputs": [
    {
     "name": "stdout",
     "output_type": "stream",
     "text": [
      "[(194, 2), (195, 1), (196, 1), (197, 1), (198, 1), (199, 1), (200, 1)]\n",
      "<class 'list'>\n"
     ]
    },
    {
     "data": {
      "text/plain": [
       "[(0, 0.23344272),\n",
       " (1, 0.011122127),\n",
       " (2, 0.122101724),\n",
       " (3, 0.12223208),\n",
       " (4, 0.12203667),\n",
       " (5, 0.011122127),\n",
       " (6, 0.011122127),\n",
       " (7, 0.34457612),\n",
       " (8, 0.011122127),\n",
       " (9, 0.011122127)]"
      ]
     },
     "execution_count": 124,
     "metadata": {},
     "output_type": "execute_result"
    }
   ],
   "source": [
    "vector = lda_model[bow_corpus[5]] # idx 5 has even model output because dictionary filtered\n",
    "vector = lda_model[bow_corpus[94]] # get topic probability distribution for a document\n",
    "print(bow_corpus[94])\n",
    "print(type(vector))\n",
    "vector"
   ]
  },
  {
   "cell_type": "code",
   "execution_count": 138,
   "metadata": {},
   "outputs": [
    {
     "data": {
      "text/plain": [
       "[(0, 0.28201964),\n",
       " (2, 0.28191966),\n",
       " (3, 0.099988274),\n",
       " (4, 0.09979075),\n",
       " (7, 0.19078131)]"
      ]
     },
     "execution_count": 138,
     "metadata": {},
     "output_type": "execute_result"
    }
   ],
   "source": [
    "# OUTPUT FROM UNSEEN USER / EXISTING USER PRODUCT INTERACTIONS\n",
    "# unseen_user = [('216305', 2), ('259884', 1), ('325215', 3), ('342816', 2)]\n",
    "# bow_vector = id2word.doc2bow(unseen_user)\n",
    "bow_vector = [(194, 1), (195, 1), (196, 1), (197, 1), (198, 3), (199, 1), (200, 2)]\n",
    "# lda_model[bow_vector]\n",
    "lda_model.get_document_topics(bow_vector)\n",
    "# for index, score in sorted(lda_model[bow_vector], key=lambda tup: -1*tup[1]):\n",
    "#     print(\"Score: {}\\t Topic: {}\".format(score, lda_model.print_topic(index, 5)))"
   ]
  },
  {
   "cell_type": "markdown",
   "metadata": {},
   "source": [
    "get_document_topics(bow, minimum_probability=None, minimum_phi_value=None, per_word_topics=False)  \n",
    "    Get the topic distribution for the given document.  \n",
    "    Parameters: bow (corpus : list of (int, float)) – The document in BOW format.  \n",
    "    Returns: list of (int, float) – Topic distribution for the whole document. Each element in the list is a pair of a topic’s id, and the probability that was assigned to it.  \n",
    "\n",
    "get_topics()  \n",
    "    Get the term-topic matrix learned during inference.  \n",
    "    Returns  \n",
    "        The probability for each word in each topic, shape (num_topics, vocabulary_size).\n",
    "    Return type  \n",
    "        numpy.ndarray  "
   ]
  },
  {
   "cell_type": "markdown",
   "metadata": {},
   "source": [
    "https://pyldavis.readthedocs.io/en/latest/modules/API.html  \n",
    "pyLDAvis.prepare(topic_term_dists, doc_topic_dists, doc_lengths, vocab, term_frequency, R=30, lambda_step=0.01, mds=<function js_PCoA>, n_jobs=-1, plot_opts={'xlab': 'PC1', 'ylab': 'PC2'}, sort_topics=True)  \n",
    "https://nbviewer.jupyter.org/github/bmabey/pyLDAvis/blob/master/notebooks/pyLDAvis_overview.ipynb#topic=0&lambda=1&term=  \n",
    " ---- sklearn LDA to pyLDAvis\n",
    "https://nbviewer.jupyter.org/github/bmabey/pyLDAvis/blob/master/notebooks/sklearn.ipynb  "
   ]
  },
  {
   "cell_type": "code",
   "execution_count": null,
   "metadata": {},
   "outputs": [],
   "source": [
    "# Visualize the topics \n",
    "# running full 400K users > 23 minutes runtime\n",
    "# running 69549 product LDA model: runtime = \n",
    "# pyLDAvis.enable_notebook()\n",
    "vis = pyLDAvis.gensim.prepare(lda_model, bow_corpus, id2word)"
   ]
  },
  {
   "cell_type": "markdown",
   "metadata": {},
   "source": [
    "https://towardsdatascience.com/topic-modeling-and-latent-dirichlet-allocation-in-python-9bf156893c24  \n",
    "https://radimrehurek.com/gensim/models/ldamulticore.html  \n",
    "https://radimrehurek.com/gensim/auto_examples/tutorials/run_lda.html#sphx-glr-auto-examples-tutorials-run-lda-py  "
   ]
  },
  {
   "cell_type": "code",
   "execution_count": null,
   "metadata": {},
   "outputs": [],
   "source": [
    "pyLDAvis.display(vis)"
   ]
  },
  {
   "cell_type": "code",
   "execution_count": null,
   "metadata": {},
   "outputs": [],
   "source": []
  },
  {
   "cell_type": "code",
   "execution_count": null,
   "metadata": {},
   "outputs": [],
   "source": []
  }
 ],
 "metadata": {
  "kernelspec": {
   "display_name": "Python 3",
   "language": "python",
   "name": "python3"
  },
  "language_info": {
   "codemirror_mode": {
    "name": "ipython",
    "version": 3
   },
   "file_extension": ".py",
   "mimetype": "text/x-python",
   "name": "python",
   "nbconvert_exporter": "python",
   "pygments_lexer": "ipython3",
   "version": "3.7.3"
  }
 },
 "nbformat": 4,
 "nbformat_minor": 2
}
