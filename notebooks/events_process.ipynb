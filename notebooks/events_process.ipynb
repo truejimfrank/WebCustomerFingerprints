{
 "cells": [
  {
   "cell_type": "code",
   "execution_count": 19,
   "metadata": {},
   "outputs": [],
   "source": [
    "import pandas as pd\n",
    "import numpy as np\n",
    "import matplotlib.pyplot as plt\n",
    "import matplotlib"
   ]
  },
  {
   "cell_type": "code",
   "execution_count": 3,
   "metadata": {},
   "outputs": [],
   "source": [
    "dfevents = pd.read_csv('../../data/ecommerce/events.csv')"
   ]
  },
  {
   "cell_type": "code",
   "execution_count": 2,
   "metadata": {},
   "outputs": [],
   "source": [
    "dfcluster = pd.read_pickle('../../data/ecommerce/cust_prod_clust2.pkl', compression='zip')\n",
    "dfcluster = dfcluster[dfcluster['item_count'] < 400]\n",
    "# gensim_processed = dfcluster['product_list']\n",
    "seriesldamask = pd.read_pickle('../../data/ecommerce/seriesldamask.pkl', compression='zip')"
   ]
  },
  {
   "cell_type": "code",
   "execution_count": 2,
   "metadata": {},
   "outputs": [],
   "source": [
    "#gensim\n",
    "import gensim\n",
    "from gensim.utils import simple_preprocess\n",
    "# from gensim.parsing.preprocessing import STOPWORDS\n",
    "import gensim.corpora as corpora\n",
    "from gensim.models import CoherenceModel\n",
    "\n",
    "# Plotting tools\n",
    "import pyLDAvis\n",
    "import pyLDAvis.gensim  # don't skip this\n",
    "import datetime"
   ]
  },
  {
   "cell_type": "code",
   "execution_count": 18,
   "metadata": {},
   "outputs": [],
   "source": [
    "times=[]  # convert from unix time format\n",
    "for i in dfevents['timestamp']:\n",
    "    times.append(datetime.datetime.fromtimestamp(i//1000.0))\n",
    "dfevents['timestamp']=times"
   ]
  },
  {
   "cell_type": "code",
   "execution_count": 6,
   "metadata": {},
   "outputs": [
    {
     "data": {
      "text/html": [
       "<div>\n",
       "<style scoped>\n",
       "    .dataframe tbody tr th:only-of-type {\n",
       "        vertical-align: middle;\n",
       "    }\n",
       "\n",
       "    .dataframe tbody tr th {\n",
       "        vertical-align: top;\n",
       "    }\n",
       "\n",
       "    .dataframe thead th {\n",
       "        text-align: right;\n",
       "    }\n",
       "</style>\n",
       "<table border=\"1\" class=\"dataframe\">\n",
       "  <thead>\n",
       "    <tr style=\"text-align: right;\">\n",
       "      <th></th>\n",
       "      <th>timestamp</th>\n",
       "      <th>visitorid</th>\n",
       "      <th>event</th>\n",
       "      <th>itemid</th>\n",
       "      <th>transactionid</th>\n",
       "    </tr>\n",
       "  </thead>\n",
       "  <tbody>\n",
       "    <tr>\n",
       "      <th>0</th>\n",
       "      <td>1433221332117</td>\n",
       "      <td>257597</td>\n",
       "      <td>view</td>\n",
       "      <td>355908</td>\n",
       "      <td>NaN</td>\n",
       "    </tr>\n",
       "    <tr>\n",
       "      <th>1</th>\n",
       "      <td>1433224214164</td>\n",
       "      <td>992329</td>\n",
       "      <td>view</td>\n",
       "      <td>248676</td>\n",
       "      <td>NaN</td>\n",
       "    </tr>\n",
       "    <tr>\n",
       "      <th>2</th>\n",
       "      <td>1433221999827</td>\n",
       "      <td>111016</td>\n",
       "      <td>view</td>\n",
       "      <td>318965</td>\n",
       "      <td>NaN</td>\n",
       "    </tr>\n",
       "    <tr>\n",
       "      <th>3</th>\n",
       "      <td>1433221955914</td>\n",
       "      <td>483717</td>\n",
       "      <td>view</td>\n",
       "      <td>253185</td>\n",
       "      <td>NaN</td>\n",
       "    </tr>\n",
       "    <tr>\n",
       "      <th>4</th>\n",
       "      <td>1433221337106</td>\n",
       "      <td>951259</td>\n",
       "      <td>view</td>\n",
       "      <td>367447</td>\n",
       "      <td>NaN</td>\n",
       "    </tr>\n",
       "  </tbody>\n",
       "</table>\n",
       "</div>"
      ],
      "text/plain": [
       "       timestamp  visitorid event  itemid  transactionid\n",
       "0  1433221332117     257597  view  355908            NaN\n",
       "1  1433224214164     992329  view  248676            NaN\n",
       "2  1433221999827     111016  view  318965            NaN\n",
       "3  1433221955914     483717  view  253185            NaN\n",
       "4  1433221337106     951259  view  367447            NaN"
      ]
     },
     "execution_count": 6,
     "metadata": {},
     "output_type": "execute_result"
    }
   ],
   "source": [
    "dfevents.head()"
   ]
  },
  {
   "cell_type": "code",
   "execution_count": 13,
   "metadata": {},
   "outputs": [
    {
     "data": {
      "text/plain": [
       "event\n",
       "addtocart      [5206, 10572, 255275, 356475, 312728, 63312, 1...\n",
       "transaction    [356475, 15335, 81345, 150318, 310791, 54058, ...\n",
       "view           [355908, 248676, 318965, 253185, 367447, 22556...\n",
       "Name: itemid, dtype: object"
      ]
     },
     "execution_count": 13,
     "metadata": {},
     "output_type": "execute_result"
    }
   ],
   "source": [
    "e_groups = dfevents.groupby('event')['itemid'].apply(list)\n",
    "e_groups"
   ]
  },
  {
   "cell_type": "code",
   "execution_count": 5,
   "metadata": {},
   "outputs": [
    {
     "name": "stdout",
     "output_type": "stream",
     "text": [
      "<class 'pandas.core.frame.DataFrame'>\n",
      "RangeIndex: 2756101 entries, 0 to 2756100\n",
      "Data columns (total 5 columns):\n",
      "timestamp        int64\n",
      "visitorid        int64\n",
      "event            object\n",
      "itemid           object\n",
      "transactionid    float64\n",
      "dtypes: float64(1), int64(2), object(2)\n",
      "memory usage: 105.1+ MB\n"
     ]
    }
   ],
   "source": [
    "dfevents['itemid'] = dfevents['itemid'].astype('str')\n",
    "# dfevents['itemid'].astype('str').dtype\n",
    "dfevents.info()"
   ]
  },
  {
   "cell_type": "code",
   "execution_count": 21,
   "metadata": {},
   "outputs": [
    {
     "data": {
      "text/plain": [
       "(1407580,)"
      ]
     },
     "execution_count": 21,
     "metadata": {},
     "output_type": "execute_result"
    }
   ],
   "source": [
    "dfcluster = dfevents.groupby('visitorid')['itemid'].apply(list)\n",
    "dfcluster.shape  # this takes several minutes to run. 1407580 unique users"
   ]
  },
  {
   "cell_type": "code",
   "execution_count": 19,
   "metadata": {},
   "outputs": [],
   "source": [
    "dfcluster.to_pickle('../../data/ecommerce/cust_prod_cluster.pkl', compression='zip')"
   ]
  },
  {
   "cell_type": "code",
   "execution_count": 27,
   "metadata": {},
   "outputs": [],
   "source": [
    "SeriesList = pd.read_pickle('../../data/ecommerce/cust_prod_cluster.pkl', compression='zip')\n",
    "# dfcluster.head()"
   ]
  },
  {
   "cell_type": "code",
   "execution_count": 5,
   "metadata": {},
   "outputs": [
    {
     "data": {
      "text/html": [
       "<div>\n",
       "<style scoped>\n",
       "    .dataframe tbody tr th:only-of-type {\n",
       "        vertical-align: middle;\n",
       "    }\n",
       "\n",
       "    .dataframe tbody tr th {\n",
       "        vertical-align: top;\n",
       "    }\n",
       "\n",
       "    .dataframe thead th {\n",
       "        text-align: right;\n",
       "    }\n",
       "</style>\n",
       "<table border=\"1\" class=\"dataframe\">\n",
       "  <thead>\n",
       "    <tr style=\"text-align: right;\">\n",
       "      <th></th>\n",
       "      <th>product_list</th>\n",
       "      <th>item_count</th>\n",
       "    </tr>\n",
       "    <tr>\n",
       "      <th>visitorid</th>\n",
       "      <th></th>\n",
       "      <th></th>\n",
       "    </tr>\n",
       "  </thead>\n",
       "  <tbody>\n",
       "    <tr>\n",
       "      <th>0</th>\n",
       "      <td>[285930, 357564, 67045]</td>\n",
       "      <td>3</td>\n",
       "    </tr>\n",
       "    <tr>\n",
       "      <th>2</th>\n",
       "      <td>[216305, 325215, 342816, 325215, 342816, 25988...</td>\n",
       "      <td>8</td>\n",
       "    </tr>\n",
       "    <tr>\n",
       "      <th>6</th>\n",
       "      <td>[344723, 344723, 65273, 253615, 344723, 344723]</td>\n",
       "      <td>6</td>\n",
       "    </tr>\n",
       "    <tr>\n",
       "      <th>7</th>\n",
       "      <td>[164941, 139394, 226353]</td>\n",
       "      <td>3</td>\n",
       "    </tr>\n",
       "    <tr>\n",
       "      <th>13</th>\n",
       "      <td>[320589, 278689]</td>\n",
       "      <td>2</td>\n",
       "    </tr>\n",
       "  </tbody>\n",
       "</table>\n",
       "</div>"
      ],
      "text/plain": [
       "                                                product_list  item_count\n",
       "visitorid                                                               \n",
       "0                                    [285930, 357564, 67045]           3\n",
       "2          [216305, 325215, 342816, 325215, 342816, 25988...           8\n",
       "6            [344723, 344723, 65273, 253615, 344723, 344723]           6\n",
       "7                                   [164941, 139394, 226353]           3\n",
       "13                                          [320589, 278689]           2"
      ]
     },
     "execution_count": 5,
     "metadata": {},
     "output_type": "execute_result"
    }
   ],
   "source": [
    "# dfcluster = pd.DataFrame(dfcluster)\n",
    "dfcluster.head()"
   ]
  },
  {
   "cell_type": "code",
   "execution_count": 25,
   "metadata": {},
   "outputs": [],
   "source": [
    "dfcluster['item_count'] = dfcluster['itemid'].apply(len)\n",
    "# dfcluster['itemid'].apply(len)[:10]"
   ]
  },
  {
   "cell_type": "code",
   "execution_count": null,
   "metadata": {},
   "outputs": [],
   "source": [
    "dfcluster.rename(columns={\"itemid\": \"product_list\"}, inplace=True)\n",
    "dfcluster.head()"
   ]
  },
  {
   "cell_type": "code",
   "execution_count": 28,
   "metadata": {},
   "outputs": [
    {
     "data": {
      "text/plain": [
       "(406020, 2)"
      ]
     },
     "execution_count": 28,
     "metadata": {},
     "output_type": "execute_result"
    }
   ],
   "source": [
    "dfcluster[dfcluster['item_count'] > 1].shape # compares to 1407580 unique users\n",
    "# 406,020  users with > 1 products interacted with"
   ]
  },
  {
   "cell_type": "code",
   "execution_count": 29,
   "metadata": {
    "scrolled": true
   },
   "outputs": [],
   "source": [
    "dfcluster[dfcluster['item_count'] > 1].to_pickle('../../data/ecommerce/cust_prod_clust2.pkl', compression='zip')"
   ]
  },
  {
   "cell_type": "code",
   "execution_count": 3,
   "metadata": {},
   "outputs": [
    {
     "name": "stdout",
     "output_type": "stream",
     "text": [
      "(405924, 2)\n"
     ]
    }
   ],
   "source": [
    "# dfcluster = pd.read_pickle('../../data/ecommerce/cust_prod_clust2.pkl', compression='zip')\n",
    "# dfcluster.head()\n",
    "# dfcluster = dfcluster[dfcluster['item_count'] < 400]\n",
    "print(dfcluster.shape)\n",
    "# dfcluster['item_count'].sort_values(ascending=False)[50:100]"
   ]
  },
  {
   "cell_type": "code",
   "execution_count": 6,
   "metadata": {},
   "outputs": [
    {
     "name": "stdout",
     "output_type": "stream",
     "text": [
      "(380127, 2)\n"
     ]
    },
    {
     "data": {
      "text/plain": [
       "<matplotlib.axes._subplots.AxesSubplot at 0x7f57b99d7160>"
      ]
     },
     "execution_count": 6,
     "metadata": {},
     "output_type": "execute_result"
    },
    {
     "data": {
      "image/png": "[encoded data removed]",
      "text/plain": [
       "<Figure size 432x288 with 1 Axes>"
      ]
     },
     "metadata": {
      "needs_background": "light"
     },
     "output_type": "display_data"
    }
   ],
   "source": [
    "dfclustermask = dfcluster[seriesldamask.values]\n",
    "print(dfclustermask.shape)\n",
    "dfclustermask['item_count'].plot('hist', bins=20, log=True)"
   ]
  },
  {
   "cell_type": "code",
   "execution_count": 7,
   "metadata": {},
   "outputs": [
    {
     "data": {
      "text/plain": [
       "<matplotlib.axes._subplots.AxesSubplot at 0x7f57bd3a7358>"
      ]
     },
     "execution_count": 7,
     "metadata": {},
     "output_type": "execute_result"
    },
    {
     "data": {
      "image/png": "[encoded data removed]",
      "text/plain": [
       "<Figure size 432x288 with 1 Axes>"
      ]
     },
     "metadata": {
      "needs_background": "light"
     },
     "output_type": "display_data"
    }
   ],
   "source": [
    "dfcluster['item_count'].plot('hist', bins=20, log=True)"
   ]
  },
  {
   "cell_type": "code",
   "execution_count": 91,
   "metadata": {},
   "outputs": [],
   "source": [
    "gensim_processed = dfcluster['product_list']\n",
    "#create dictionary\n",
    "id2word = gensim.corpora.Dictionary(gensim_processed)"
   ]
  },
  {
   "cell_type": "markdown",
   "metadata": {},
   "source": [
    "Filter out tokens that appear in (tokens = products)  \n",
    "less than 15 documents (absolute number) or  \n",
    "more than 0.5 documents (fraction of total corpus size, not absolute number).  \n",
    "after the above two steps, keep only the first 100000 most frequent tokens.  "
   ]
  },
  {
   "cell_type": "code",
   "execution_count": 93,
   "metadata": {},
   "outputs": [],
   "source": [
    "id2word.filter_extremes(no_below=3, no_above=0.5, keep_n=200000)"
   ]
  },
  {
   "cell_type": "code",
   "execution_count": 94,
   "metadata": {},
   "outputs": [
    {
     "name": "stdout",
     "output_type": "stream",
     "text": [
      "(405924,)\n",
      "69549\n"
     ]
    }
   ],
   "source": [
    "print(gensim_processed.shape) # number of rows\n",
    "print(len(id2word)) # number of features sent to LDA model\n",
    "# test LDA model in lecture notebook is (10, 62245)\n",
    "# this LDA model with no filter_extremes (10, 163239)   \n",
    "# tested no_above. even at 0.4 has not effect"
   ]
  },
  {
   "cell_type": "code",
   "execution_count": 95,
   "metadata": {},
   "outputs": [],
   "source": [
    "#Term Product Frequency\n",
    "bow_corpus = [id2word.doc2bow(text) for text in gensim_processed]"
   ]
  },
  {
   "cell_type": "code",
   "execution_count": 96,
   "metadata": {},
   "outputs": [
    {
     "data": {
      "text/plain": [
       "[[('216305', 2), ('259884', 1), ('325215', 3), ('342816', 2)],\n",
       " [('253615', 1), ('344723', 4), ('65273', 1)]]"
      ]
     },
     "execution_count": 96,
     "metadata": {},
     "output_type": "execute_result"
    }
   ],
   "source": [
    "# Human readable format of corpus (term-frequency)\n",
    "[[(id2word[id], freq) for id, freq in cp] for cp in bow_corpus[1:3]]"
   ]
  },
  {
   "cell_type": "markdown",
   "metadata": {},
   "source": [
    "class gensim.models.ldamulticore.LdaMulticore(corpus=None, num_topics=100, id2word=None, workers=None, chunksize=2000, passes=1, batch=False, alpha='symmetric', eta=None, decay=0.5, offset=1.0, eval_every=10, iterations=50, gamma_threshold=0.001, random_state=None, minimum_probability=0.01, minimum_phi_value=0.01, per_word_topics=False, dtype=<class 'numpy.float32'>)"
   ]
  },
  {
   "cell_type": "code",
   "execution_count": 97,
   "metadata": {},
   "outputs": [],
   "source": [
    "# num_topics=10  # took about 3 minutes to run original. after filters, 1 min\n",
    "lda_model = gensim.models.LdaMulticore(bow_corpus, num_topics=10, id2word=id2word, \n",
    "                                       passes=2, workers=3, random_state=9)"
   ]
  },
  {
   "cell_type": "markdown",
   "metadata": {},
   "source": [
    "from gensim.test.utils import datapath  \n",
    "\n",
    "Save model to disk.  \n",
    "temp_file = datapath(\"model\")  \n",
    "lda.save(temp_file)  \n",
    "\n",
    "Load a potentially pretrained model from disk.  \n",
    "lda = LdaModel.load(temp_file)  "
   ]
  },
  {
   "cell_type": "code",
   "execution_count": null,
   "metadata": {},
   "outputs": [],
   "source": [
    "from pprint import pprint\n",
    "# Print the KeyProduct in the 10 topics\n",
    "pprint(lda_model.print_topics())"
   ]
  },
  {
   "cell_type": "code",
   "execution_count": 99,
   "metadata": {},
   "outputs": [
    {
     "name": "stdout",
     "output_type": "stream",
     "text": [
      "\n",
      "Perplexity:  -13.531439927018745\n",
      "\n",
      "Coherence Score:  0.6465475605570784\n"
     ]
    }
   ],
   "source": [
    "# Compute Perplexity  # took maybe 2 minutes to run\n",
    "print('\\nPerplexity: ', lda_model.log_perplexity(bow_corpus))  \n",
    "# a measure of how good the model is. lower the better.\n",
    "\n",
    "# Compute Coherence Score\n",
    "coherence_model_lda = CoherenceModel(model=lda_model, texts=gensim_processed, dictionary=id2word, coherence='c_v')\n",
    "coherence_lda = coherence_model_lda.get_coherence()\n",
    "print('\\nCoherence Score: ', coherence_lda)"
   ]
  },
  {
   "cell_type": "code",
   "execution_count": 144,
   "metadata": {},
   "outputs": [
    {
     "name": "stdout",
     "output_type": "stream",
     "text": [
      "\n",
      "Perplexity:  -13.531\n",
      "\n",
      "Coherence Score:  0.647\n"
     ]
    }
   ],
   "source": [
    "row_lda = lda_model[bow_corpus]\n",
    "row_lda\n",
    "print('\\nPerplexity: ', round(-13.5314399, 3))  # for cat10\n",
    "print('\\nCoherence Score: ', round(0.64654756, 3)) # for cat10"
   ]
  },
  {
   "cell_type": "code",
   "execution_count": 100,
   "metadata": {},
   "outputs": [
    {
     "data": {
      "text/plain": [
       "(10, 69549)"
      ]
     },
     "execution_count": 100,
     "metadata": {},
     "output_type": "execute_result"
    }
   ],
   "source": [
    "lda_model.get_topics().shape  # test LDA model in lecture notebook is (10, 62245)"
   ]
  },
  {
   "cell_type": "code",
   "execution_count": 124,
   "metadata": {},
   "outputs": [
    {
     "name": "stdout",
     "output_type": "stream",
     "text": [
      "[(194, 2), (195, 1), (196, 1), (197, 1), (198, 1), (199, 1), (200, 1)]\n",
      "<class 'list'>\n"
     ]
    },
    {
     "data": {
      "text/plain": [
       "[(0, 0.23344272),\n",
       " (1, 0.011122127),\n",
       " (2, 0.122101724),\n",
       " (3, 0.12223208),\n",
       " (4, 0.12203667),\n",
       " (5, 0.011122127),\n",
       " (6, 0.011122127),\n",
       " (7, 0.34457612),\n",
       " (8, 0.011122127),\n",
       " (9, 0.011122127)]"
      ]
     },
     "execution_count": 124,
     "metadata": {},
     "output_type": "execute_result"
    }
   ],
   "source": [
    "vector = lda_model[bow_corpus[5]] # idx 5 has even model output because dictionary filtered\n",
    "vector = lda_model[bow_corpus[94]] # get topic probability distribution for a document\n",
    "print(bow_corpus[94])\n",
    "print(type(vector))\n",
    "vector"
   ]
  },
  {
   "cell_type": "code",
   "execution_count": 138,
   "metadata": {},
   "outputs": [
    {
     "data": {
      "text/plain": [
       "[(0, 0.28201964),\n",
       " (2, 0.28191966),\n",
       " (3, 0.099988274),\n",
       " (4, 0.09979075),\n",
       " (7, 0.19078131)]"
      ]
     },
     "execution_count": 138,
     "metadata": {},
     "output_type": "execute_result"
    }
   ],
   "source": [
    "# OUTPUT FROM UNSEEN USER / EXISTING USER PRODUCT INTERACTIONS\n",
    "# unseen_user = [('216305', 2), ('259884', 1), ('325215', 3), ('342816', 2)]\n",
    "# bow_vector = id2word.doc2bow(unseen_user)\n",
    "bow_vector = [(194, 1), (195, 1), (196, 1), (197, 1), (198, 3), (199, 1), (200, 2)]\n",
    "# lda_model[bow_vector]\n",
    "lda_model.get_document_topics(bow_vector)\n",
    "# for index, score in sorted(lda_model[bow_vector], key=lambda tup: -1*tup[1]):\n",
    "#     print(\"Score: {}\\t Topic: {}\".format(score, lda_model.print_topic(index, 5)))"
   ]
  },
  {
   "cell_type": "markdown",
   "metadata": {},
   "source": [
    "get_document_topics(bow, minimum_probability=None, minimum_phi_value=None, per_word_topics=False)  \n",
    "    Get the topic distribution for the given document.  \n",
    "    Parameters: bow (corpus : list of (int, float)) – The document in BOW format.  \n",
    "    Returns: list of (int, float) – Topic distribution for the whole document. Each element in the list is a pair of a topic’s id, and the probability that was assigned to it.  \n",
    "\n",
    "get_topics()  \n",
    "    Get the term-topic matrix learned during inference.  \n",
    "    Returns  \n",
    "        The probability for each word in each topic, shape (num_topics, vocabulary_size).\n",
    "    Return type  \n",
    "        numpy.ndarray  "
   ]
  },
  {
   "cell_type": "markdown",
   "metadata": {},
   "source": [
    "https://pyldavis.readthedocs.io/en/latest/modules/API.html  \n",
    "pyLDAvis.prepare(topic_term_dists, doc_topic_dists, doc_lengths, vocab, term_frequency, R=30, lambda_step=0.01, mds=<function js_PCoA>, n_jobs=-1, plot_opts={'xlab': 'PC1', 'ylab': 'PC2'}, sort_topics=True)  \n",
    "https://nbviewer.jupyter.org/github/bmabey/pyLDAvis/blob/master/notebooks/pyLDAvis_overview.ipynb#topic=0&lambda=1&term=  \n",
    " ---- sklearn LDA to pyLDAvis\n",
    "https://nbviewer.jupyter.org/github/bmabey/pyLDAvis/blob/master/notebooks/sklearn.ipynb  "
   ]
  },
  {
   "cell_type": "code",
   "execution_count": 139,
   "metadata": {},
   "outputs": [
    {
     "name": "stderr",
     "output_type": "stream",
     "text": [
      "/home/scorpio/enter/lib/python3.7/site-packages/pyLDAvis/_prepare.py:257: FutureWarning: Sorting because non-concatenation axis is not aligned. A future version\n",
      "of pandas will change to not sort by default.\n",
      "\n",
      "To accept the future behavior, pass 'sort=False'.\n",
      "\n",
      "To retain the current behavior and silence the warning, pass 'sort=True'.\n",
      "\n",
      "  return pd.concat([default_term_info] + list(topic_dfs))\n"
     ]
    }
   ],
   "source": [
    "# Visualize the topics \n",
    "# running full 400K users > 23 minutes runtime\n",
    "# running 69549 product LDA model: runtime = 22 minutes !!!!!\n",
    "# pyLDAvis.enable_notebook()\n",
    "vis = pyLDAvis.gensim.prepare(lda_model, bow_corpus, id2word)"
   ]
  },
  {
   "cell_type": "markdown",
   "metadata": {},
   "source": [
    "https://towardsdatascience.com/topic-modeling-and-latent-dirichlet-allocation-in-python-9bf156893c24  \n",
    "https://radimrehurek.com/gensim/models/ldamulticore.html  \n",
    "https://radimrehurek.com/gensim/auto_examples/tutorials/run_lda.html#sphx-glr-auto-examples-tutorials-run-lda-py  "
   ]
  },
  {
   "cell_type": "code",
   "execution_count": 142,
   "metadata": {},
   "outputs": [],
   "source": [
    "# pyLDAvis.save_html(data, fileobj, more args**)\n",
    "pyLDAvis.save_html(vis, \"cat10_lda.html\", template_type='general')"
   ]
  },
  {
   "cell_type": "code",
   "execution_count": 140,
   "metadata": {},
   "outputs": [
    {
     "data": {
      "text/html": [
       "\n",
       "<link rel=\"stylesheet\" type=\"text/css\" href=\"https://cdn.rawgit.com/bmabey/pyLDAvis/files/ldavis.v1.0.0.css\">\n",
       "\n",
       "\n",
       "<div id=\"ldavis_el138911402698687263361685415420\"></div>\n",
       "<script type=\"text/javascript\">\n",
       "\n",
       "var ldavis_el138911402698687263361685415420_data = {\"mdsDat\": {\"x\": [0.17358463464901808, 0.16264159564748867, -0.2411113637653528, 0.13924458069750012, 0.12555074267593724, -0.06522269923328848, -0.22676699070824585, -0.030446553684034938, -0.01401413064295187, -0.02345981563606959], \"y\": [-0.035054155909728844, -0.1321993815383569, -0.1734638882633616, 0.1931626891621238, -0.1027738515260391, 0.3180835933128291, 0.042660959801593935, -0.02451658752808815, -0.060654031708061266, -0.02524534580291149], \"topics\": [1, 2, 3, 4, 5, 6, 7, 8, 9, 10], \"cluster\": [1, 1, 1, 1, 1, 1, 1, 1, 1, 1], \"Freq\": [10.245243072509766, 10.212141990661621, 10.180538177490234, 10.175086975097656, 10.138463020324707, 10.044952392578125, 9.9566068649292, 9.886495590209961, 9.626082420349121, 9.534387588500977]}, \"tinfo\": {\"Category\": [\"Default\", \"Default\", \"Default\", \"Default\", \"Default\", \"Default\", \"Default\", \"Default\", \"Default\", \"Default\", \"Default\", \"Default\", \"Default\", \"Default\", \"Default\", \"Default\", \"Default\", \"Default\", \"Default\", \"Default\", \"Default\", \"Default\", \"Default\", \"Default\", \"Default\", \"Default\", \"Default\", \"Default\", \"Default\", \"Default\", \"Topic1\", \"Topic1\", \"Topic1\", \"Topic1\", \"Topic1\", \"Topic1\", \"Topic1\", \"Topic1\", \"Topic1\", \"Topic1\", \"Topic1\", \"Topic1\", \"Topic1\", \"Topic1\", \"Topic1\", \"Topic1\", \"Topic1\", \"Topic1\", \"Topic1\", \"Topic1\", \"Topic1\", \"Topic1\", \"Topic1\", \"Topic1\", \"Topic1\", \"Topic1\", \"Topic1\", \"Topic1\", \"Topic1\", \"Topic1\", \"Topic1\", \"Topic1\", \"Topic1\", \"Topic1\", \"Topic1\", \"Topic1\", \"Topic1\", \"Topic1\", \"Topic1\", \"Topic1\", \"Topic1\", \"Topic2\", \"Topic2\", \"Topic2\", \"Topic2\", \"Topic2\", \"Topic2\", \"Topic2\", \"Topic2\", \"Topic2\", \"Topic2\", \"Topic2\", \"Topic2\", \"Topic2\", \"Topic2\", \"Topic2\", \"Topic2\", \"Topic2\", \"Topic2\", \"Topic2\", \"Topic2\", \"Topic2\", \"Topic2\", \"Topic2\", \"Topic2\", \"Topic2\", \"Topic2\", \"Topic2\", \"Topic2\", \"Topic2\", \"Topic2\", \"Topic2\", \"Topic2\", \"Topic2\", \"Topic2\", \"Topic2\", \"Topic2\", \"Topic2\", \"Topic2\", \"Topic2\", \"Topic2\", \"Topic3\", \"Topic3\", \"Topic3\", \"Topic3\", \"Topic3\", \"Topic3\", \"Topic3\", \"Topic3\", \"Topic3\", \"Topic3\", \"Topic3\", \"Topic3\", \"Topic3\", \"Topic3\", \"Topic3\", \"Topic3\", \"Topic3\", \"Topic3\", \"Topic3\", \"Topic3\", \"Topic3\", \"Topic3\", \"Topic3\", \"Topic3\", \"Topic3\", \"Topic3\", \"Topic3\", \"Topic3\", \"Topic3\", \"Topic3\", \"Topic3\", \"Topic3\", \"Topic3\", \"Topic3\", \"Topic3\", \"Topic3\", \"Topic4\", \"Topic4\", \"Topic4\", \"Topic4\", \"Topic4\", \"Topic4\", \"Topic4\", \"Topic4\", \"Topic4\", \"Topic4\", \"Topic4\", \"Topic4\", \"Topic4\", \"Topic4\", \"Topic4\", \"Topic4\", \"Topic4\", \"Topic4\", \"Topic4\", \"Topic4\", \"Topic4\", \"Topic4\", \"Topic4\", \"Topic4\", \"Topic4\", \"Topic4\", \"Topic4\", \"Topic4\", \"Topic4\", \"Topic4\", \"Topic4\", \"Topic4\", \"Topic4\", \"Topic4\", \"Topic4\", \"Topic4\", \"Topic4\", \"Topic4\", \"Topic4\", \"Topic4\", \"Topic4\", \"Topic5\", \"Topic5\", \"Topic5\", \"Topic5\", \"Topic5\", \"Topic5\", \"Topic5\", \"Topic5\", \"Topic5\", \"Topic5\", \"Topic5\", \"Topic5\", \"Topic5\", \"Topic5\", \"Topic5\", \"Topic5\", \"Topic5\", \"Topic5\", \"Topic5\", \"Topic5\", \"Topic5\", \"Topic5\", \"Topic5\", \"Topic5\", \"Topic5\", \"Topic5\", \"Topic5\", \"Topic5\", \"Topic5\", \"Topic5\", \"Topic5\", \"Topic5\", \"Topic5\", \"Topic5\", \"Topic6\", \"Topic6\", \"Topic6\", \"Topic6\", \"Topic6\", \"Topic6\", \"Topic6\", \"Topic6\", \"Topic6\", \"Topic6\", \"Topic6\", \"Topic6\", \"Topic6\", \"Topic6\", \"Topic6\", \"Topic6\", \"Topic6\", \"Topic6\", \"Topic6\", \"Topic6\", \"Topic6\", \"Topic6\", \"Topic6\", \"Topic6\", \"Topic6\", \"Topic6\", \"Topic6\", \"Topic6\", \"Topic6\", \"Topic6\", \"Topic6\", \"Topic6\", \"Topic6\", \"Topic6\", \"Topic6\", \"Topic6\", \"Topic6\", \"Topic7\", \"Topic7\", \"Topic7\", \"Topic7\", \"Topic7\", \"Topic7\", \"Topic7\", \"Topic7\", \"Topic7\", \"Topic7\", \"Topic7\", \"Topic7\", \"Topic7\", \"Topic7\", \"Topic7\", \"Topic7\", \"Topic7\", \"Topic7\", \"Topic7\", \"Topic7\", \"Topic7\", \"Topic7\", \"Topic7\", \"Topic7\", \"Topic7\", \"Topic7\", \"Topic7\", \"Topic7\", \"Topic7\", \"Topic7\", \"Topic7\", \"Topic7\", \"Topic7\", \"Topic7\", \"Topic7\", \"Topic7\", \"Topic7\", \"Topic8\", \"Topic8\", \"Topic8\", \"Topic8\", \"Topic8\", \"Topic8\", \"Topic8\", \"Topic8\", \"Topic8\", \"Topic8\", \"Topic8\", \"Topic8\", \"Topic8\", \"Topic8\", \"Topic8\", \"Topic8\", \"Topic8\", \"Topic8\", \"Topic8\", \"Topic8\", \"Topic8\", \"Topic8\", \"Topic8\", \"Topic8\", \"Topic8\", \"Topic8\", \"Topic8\", \"Topic8\", \"Topic8\", \"Topic8\", \"Topic8\", \"Topic8\", \"Topic8\", \"Topic8\", \"Topic8\", \"Topic8\", \"Topic9\", \"Topic9\", \"Topic9\", \"Topic9\", \"Topic9\", \"Topic9\", \"Topic9\", \"Topic9\", \"Topic9\", \"Topic9\", \"Topic9\", \"Topic9\", \"Topic9\", \"Topic9\", \"Topic9\", \"Topic9\", \"Topic9\", \"Topic9\", \"Topic9\", \"Topic9\", \"Topic9\", \"Topic9\", \"Topic9\", \"Topic9\", \"Topic9\", \"Topic9\", \"Topic9\", \"Topic9\", \"Topic9\", \"Topic9\", \"Topic9\", \"Topic9\", \"Topic9\", \"Topic9\", \"Topic10\", \"Topic10\", \"Topic10\", \"Topic10\", \"Topic10\", \"Topic10\", \"Topic10\", \"Topic10\", \"Topic10\", \"Topic10\", \"Topic10\", \"Topic10\", \"Topic10\", \"Topic10\", \"Topic10\", \"Topic10\", \"Topic10\", \"Topic10\", \"Topic10\", \"Topic10\", \"Topic10\", \"Topic10\", \"Topic10\", \"Topic10\", \"Topic10\", \"Topic10\", \"Topic10\", \"Topic10\", \"Topic10\", \"Topic10\", \"Topic10\", \"Topic10\", \"Topic10\", \"Topic10\", \"Topic10\", \"Topic10\", \"Topic10\"], \"Freq\": [2639.0, 1663.0, 1682.0, 1637.0, 1488.0, 1401.0, 1317.0, 1268.0, 1199.0, 1179.0, 1153.0, 1154.0, 1099.0, 1066.0, 1073.0, 1072.0, 1025.0, 1048.0, 1013.0, 1030.0, 998.0, 1018.0, 987.0, 960.0, 942.0, 937.0, 922.0, 908.0, 906.0, 905.0, 736.9561157226562, 830.2115478515625, 721.68994140625, 644.5335693359375, 629.8924560546875, 603.23486328125, 587.0147094726562, 577.93994140625, 528.2214965820312, 565.9576416015625, 472.2558898925781, 801.4156494140625, 420.7382507324219, 490.78125, 384.4756164550781, 355.0793151855469, 375.484375, 343.4237365722656, 348.63287353515625, 339.4622497558594, 335.61627197265625, 328.10260009765625, 333.7470397949219, 321.39593505859375, 365.5322265625, 311.5010070800781, 306.4232177734375, 306.7801208496094, 306.9275817871094, 301.7148742675781, 380.84881591796875, 403.42047119140625, 566.8461303710938, 384.3564147949219, 354.3177490234375, 594.719970703125, 352.9796142578125, 653.562744140625, 354.7397155761719, 345.56103515625, 349.6665954589844, 767.0247802734375, 759.4884033203125, 774.6389770507812, 645.2950439453125, 632.7496948242188, 535.9996948242188, 520.9951782226562, 564.4254760742188, 485.98992919921875, 457.0271301269531, 430.77239990234375, 426.0845947265625, 399.2837219238281, 394.8536376953125, 392.11846923828125, 389.8147888183594, 396.04742431640625, 374.7817077636719, 351.31695556640625, 348.2369689941406, 329.79632568359375, 328.9443664550781, 324.1125793457031, 322.1809387207031, 314.97186279296875, 313.80474853515625, 307.8987121582031, 303.38165283203125, 568.2960815429688, 294.036865234375, 475.3476257324219, 377.73309326171875, 891.6306762695312, 421.00494384765625, 607.9660034179688, 575.77978515625, 386.2363586425781, 370.44122314453125, 343.78814697265625, 366.4245910644531, 1267.6614990234375, 1153.30419921875, 1098.20751953125, 1071.6888427734375, 1047.18994140625, 936.7832641601562, 889.2019653320312, 841.001220703125, 729.2552490234375, 695.7802734375, 587.1077880859375, 581.4618530273438, 524.9003295898438, 478.51806640625, 467.0317077636719, 523.48681640625, 447.5178527832031, 434.7416687011719, 429.8902587890625, 377.97259521484375, 377.7314453125, 366.40985107421875, 358.1768798828125, 358.41253662109375, 350.6772766113281, 353.64739990234375, 350.1381530761719, 388.00518798828125, 347.7153625488281, 328.6300964355469, 558.0435180664062, 639.1468505859375, 415.93182373046875, 561.4658813476562, 410.5375061035156, 422.1839904785156, 1072.338623046875, 1017.7218017578125, 1029.3333740234375, 700.3880615234375, 660.0977783203125, 505.44195556640625, 488.90533447265625, 483.4609375, 475.283447265625, 418.54583740234375, 414.5610656738281, 439.8082580566406, 502.4859619140625, 395.4891052246094, 359.480712890625, 355.8192443847656, 367.44049072265625, 341.17431640625, 342.30712890625, 329.2666320800781, 332.7812194824219, 320.8704833984375, 300.6039123535156, 290.15643310546875, 287.03717041015625, 284.0318908691406, 281.4596862792969, 277.8727722167969, 275.8158264160156, 274.3090515136719, 432.2162780761719, 421.2635192871094, 293.5956726074219, 556.5865478515625, 373.9075622558594, 317.8232116699219, 312.42266845703125, 374.5439758300781, 308.76080322265625, 390.046142578125, 329.88861083984375, 2637.921630859375, 1198.0538330078125, 959.2566528320312, 940.9926147460938, 901.0504150390625, 842.4200439453125, 684.8661499023438, 648.7240600585938, 641.0478515625, 587.6197509765625, 563.4950561523438, 551.3284912109375, 537.0347290039062, 524.4258422851562, 523.4221801757812, 510.8080749511719, 502.0638427734375, 576.038330078125, 483.5435791015625, 470.31878662109375, 464.6152038574219, 460.56146240234375, 440.61492919921875, 436.5805969238281, 436.7276916503906, 420.2909240722656, 423.9330139160156, 418.6649475097656, 379.1256408691406, 374.6022033691406, 377.3716125488281, 396.8773193359375, 484.51300048828125, 605.8494262695312, 1316.551513671875, 749.2721557617188, 572.575439453125, 567.5740966796875, 547.4286499023438, 533.2573852539062, 531.0729370117188, 645.5797119140625, 511.6162109375, 490.8396301269531, 539.8346557617188, 450.7495422363281, 435.357177734375, 414.8348693847656, 420.6881103515625, 400.91741943359375, 383.5374755859375, 390.3692932128906, 354.1062316894531, 350.642578125, 350.3563232421875, 320.25946044921875, 309.61309814453125, 309.5423278808594, 296.9210205078125, 296.0840148925781, 285.1968078613281, 274.0758972167969, 273.1168212890625, 272.0813293457031, 474.7578125, 490.8809814453125, 284.5542297363281, 343.9925537109375, 343.98822021484375, 435.47015380859375, 346.1347351074219, 1636.53125, 985.840576171875, 728.1494750976562, 714.7369384765625, 581.8869018554688, 536.9617919921875, 506.6244201660156, 508.8334045410156, 1484.9580078125, 458.9725341796875, 408.9580383300781, 397.7405700683594, 399.3605041503906, 380.1944274902344, 382.6731262207031, 363.22723388671875, 348.9238586425781, 342.9950866699219, 344.78857421875, 338.30810546875, 335.5316162109375, 327.7637023925781, 338.66888427734375, 314.4133605957031, 312.6492919921875, 761.5280151367188, 306.92706298828125, 296.4903869628906, 295.64019775390625, 292.6966857910156, 1674.3436279296875, 743.3324584960938, 377.1905212402344, 463.8470764160156, 468.4067077636719, 543.1790771484375, 361.59906005859375, 1400.414794921875, 1152.3856201171875, 857.9597778320312, 850.523193359375, 921.4278564453125, 1177.3759765625, 690.8951416015625, 686.3927612304688, 742.5659790039062, 435.8285217285156, 416.6770324707031, 415.84259033203125, 413.04864501953125, 413.55316162109375, 405.388916015625, 398.644287109375, 402.5430908203125, 381.2574768066406, 376.36279296875, 388.2920837402344, 377.039306640625, 344.65863037109375, 342.6988220214844, 334.7229919433594, 327.7663269042969, 309.3462219238281, 306.80291748046875, 300.8984069824219, 300.8511657714844, 309.57794189453125, 395.0628967285156, 303.813232421875, 341.5347900390625, 434.82147216796875, 403.6513366699219, 335.8722839355469, 1661.4638671875, 1012.0830078125, 907.7360229492188, 904.24169921875, 854.3032836914062, 1064.3958740234375, 1023.5352783203125, 630.2313232421875, 594.4078979492188, 543.1029663085938, 588.2564086914062, 510.42523193359375, 502.8578796386719, 483.033203125, 480.1036071777344, 437.46868896484375, 411.10400390625, 405.79571533203125, 397.24603271484375, 505.5842590332031, 380.6246643066406, 376.741943359375, 375.6415100097656, 371.04449462890625, 369.9462890625, 353.28424072265625, 349.4537353515625, 349.7486572265625, 343.00616455078125, 344.7366943359375, 353.954833984375, 347.3644104003906, 372.1414489746094, 355.2151794433594, 848.9833984375, 725.720703125, 719.3504638671875, 610.2540893554688, 567.1072998046875, 688.0530395507812, 477.9609069824219, 549.4594116210938, 478.0307312011719, 542.4108276367188, 446.5045166015625, 443.29376220703125, 440.4037170410156, 533.2603759765625, 995.48681640625, 386.9132385253906, 374.6539611816406, 904.0099487304688, 350.537353515625, 344.60504150390625, 338.3868713378906, 334.4104309082031, 323.1628723144531, 312.381591796875, 311.6719055175781, 292.4664001464844, 289.54736328125, 286.8080139160156, 287.01873779296875, 284.76141357421875, 347.99896240234375, 385.09521484375, 363.9373474121094, 329.9327697753906, 303.4648742675781, 365.27386474609375, 333.9903869628906], \"Term\": [\"461686\", \"384302\", \"257040\", \"309778\", \"219512\", \"320130\", \"187946\", \"9877\", \"96924\", \"111530\", \"191049\", \"190000\", \"369447\", \"370653\", \"7943\", \"241555\", \"312728\", \"315543\", \"5411\", \"455183\", \"303828\", \"400946\", \"37029\", \"29196\", \"441668\", \"325310\", \"303715\", \"298009\", \"58638\", \"409804\", \"29100\", \"231482\", \"354233\", \"109618\", \"398579\", \"243355\", \"5470\", \"416017\", \"204494\", \"253615\", \"340960\", \"158666\", \"463617\", \"330506\", \"128908\", \"213102\", \"279457\", \"16344\", \"191303\", \"48213\", \"368403\", \"369933\", \"354585\", \"110151\", \"197642\", \"56323\", \"358348\", \"446411\", \"463663\", \"199233\", \"190536\", \"361956\", \"118914\", \"277490\", \"228644\", \"12217\", \"13925\", \"234255\", \"395845\", \"116624\", \"17114\", \"414460\", \"248455\", \"46232\", \"546\", \"438484\", \"342530\", \"231243\", \"66752\", \"411373\", \"340825\", \"17108\", \"175356\", \"90219\", \"84310\", \"61303\", \"78265\", \"11279\", \"184199\", \"170811\", \"448220\", \"399674\", \"152433\", \"382885\", \"54875\", \"128296\", \"268335\", \"429571\", \"240900\", \"64951\", \"305588\", \"454818\", \"170262\", \"290999\", \"456005\", \"441852\", \"234255\", \"328696\", \"460188\", \"186095\", \"355994\", \"9877\", \"190000\", \"369447\", \"241555\", \"315543\", \"325310\", \"350629\", \"161623\", \"38965\", \"447661\", \"382751\", \"379520\", \"283115\", \"264604\", \"448453\", \"243980\", \"82278\", \"212216\", \"292444\", \"412622\", \"227161\", \"445749\", \"359251\", \"225257\", \"37115\", \"289103\", \"26210\", \"33182\", \"177522\", \"2836\", \"399031\", \"453618\", \"385769\", \"120541\", \"218746\", \"91105\", \"7943\", \"400946\", \"455183\", \"17478\", \"162139\", \"434782\", \"405770\", \"76060\", \"464731\", \"151444\", \"260317\", \"449912\", \"69533\", \"24734\", \"290250\", \"314789\", \"351481\", \"442131\", \"457045\", \"291964\", \"395435\", \"359990\", \"85579\", \"212672\", \"392074\", \"122219\", \"60980\", \"52928\", \"88098\", \"22926\", \"102306\", \"422356\", \"322887\", \"46130\", \"14671\", \"367102\", \"183511\", \"272324\", \"143418\", \"11663\", \"369158\", \"461686\", \"96924\", \"29196\", \"441668\", \"420960\", \"65273\", \"339703\", \"268883\", \"393111\", \"291877\", \"218794\", \"272455\", \"341482\", \"283916\", \"340093\", \"260539\", \"299677\", \"133814\", \"22436\", \"372188\", \"444190\", \"82586\", \"310944\", \"6605\", \"171878\", \"85914\", \"385475\", \"216305\", \"287449\", \"259884\", \"365787\", \"10572\", \"159822\", \"142466\", \"187946\", \"133907\", \"459475\", \"304537\", \"206880\", \"299222\", \"350103\", \"316753\", \"344071\", \"4001\", \"318333\", \"368060\", \"222888\", \"294482\", \"153778\", \"450082\", \"339517\", \"344723\", \"358211\", \"448044\", \"208270\", \"97307\", \"165030\", \"227869\", \"309821\", \"399531\", \"441966\", \"244027\", \"50648\", \"277264\", \"338660\", \"272770\", \"89438\", \"457231\", \"389135\", \"57788\", \"165302\", \"309778\", \"37029\", \"315545\", \"422425\", \"394678\", \"89775\", \"98071\", \"390591\", \"219512\", \"172894\", \"132683\", \"263258\", \"76426\", \"358594\", \"286731\", \"388097\", \"380237\", \"263245\", \"331311\", \"159780\", \"302563\", \"445105\", \"193828\", \"391484\", \"449489\", \"122604\", \"124583\", \"359844\", \"316472\", \"399592\", \"257040\", \"320494\", \"215596\", \"432152\", \"360487\", \"367664\", \"255725\", \"320130\", \"191049\", \"48030\", \"445351\", \"303715\", \"111530\", \"393028\", \"389158\", \"247909\", \"274798\", \"413990\", \"89044\", \"80435\", \"51650\", \"46156\", \"340375\", \"227318\", \"440248\", \"212917\", \"237952\", \"245085\", \"98547\", \"143866\", \"446934\", \"361288\", \"450209\", \"143416\", \"421884\", \"397642\", \"174538\", \"186256\", \"32843\", \"45330\", \"422671\", \"79572\", \"396491\", \"384302\", \"5411\", \"298009\", \"409804\", \"335975\", \"370653\", \"312728\", \"91755\", \"345279\", \"235224\", \"374092\", \"180751\", \"361103\", \"23762\", \"424515\", \"232172\", \"351044\", \"54502\", \"257575\", \"380971\", \"215363\", \"89262\", \"417927\", \"438412\", \"75779\", \"279052\", \"15948\", \"115696\", \"225778\", \"188698\", \"425726\", \"103156\", \"272976\", \"243169\", \"266900\", \"112782\", \"869\", \"357054\", \"138427\", \"254418\", \"359491\", \"308438\", \"62549\", \"118551\", \"84160\", \"378637\", \"438322\", \"444593\", \"303828\", \"115323\", \"432478\", \"58638\", \"210087\", \"425186\", \"307306\", \"124272\", \"23683\", \"149275\", \"171427\", \"51354\", \"216044\", \"408203\", \"167769\", \"150103\", \"462188\", \"107184\", \"190070\", \"9211\", \"138017\", \"276494\", \"337327\"], \"Total\": [2639.0, 1663.0, 1682.0, 1637.0, 1488.0, 1401.0, 1317.0, 1268.0, 1199.0, 1179.0, 1153.0, 1154.0, 1099.0, 1066.0, 1073.0, 1072.0, 1025.0, 1048.0, 1013.0, 1030.0, 998.0, 1018.0, 987.0, 960.0, 942.0, 937.0, 922.0, 908.0, 906.0, 905.0, 738.1248168945312, 831.566162109375, 722.8698120117188, 645.7272338867188, 631.0751342773438, 604.4038696289062, 588.1912841796875, 579.1101684570312, 529.3905639648438, 567.2853393554688, 473.4367980957031, 803.681640625, 421.9388122558594, 492.2197570800781, 385.6579284667969, 356.2469482421875, 376.7380065917969, 344.5943908691406, 349.8355712890625, 340.6401672363281, 336.7867126464844, 329.27056884765625, 334.9401550292969, 322.563720703125, 366.9051513671875, 312.68426513671875, 307.5909118652344, 307.9532165527344, 308.1113586425781, 302.8829040527344, 382.4090270996094, 406.3953552246094, 575.3951416015625, 389.82269287109375, 358.5645446777344, 683.5973510742188, 373.1376953125, 1233.2510986328125, 397.03271484375, 381.6745300292969, 450.6369323730469, 768.197021484375, 760.6620483398438, 775.9955444335938, 646.4669189453125, 634.0626220703125, 537.1981201171875, 522.16650390625, 565.7147827148438, 487.1835632324219, 458.25738525390625, 431.9426574707031, 427.25628662109375, 400.454345703125, 396.0295715332031, 393.2876281738281, 390.9840393066406, 397.2658996582031, 375.95147705078125, 352.4898681640625, 349.4144287109375, 330.9678955078125, 330.1152648925781, 325.2829284667969, 323.3507080078125, 316.1410217285156, 314.99444580078125, 309.0686340332031, 304.5519104003906, 570.4976196289062, 295.2060546875, 478.2644958496094, 379.6506652832031, 906.665283203125, 430.2496032714844, 834.2584228515625, 1233.2510986328125, 492.52911376953125, 460.60919189453125, 429.5860595703125, 692.3657836914062, 1268.8497314453125, 1154.4896240234375, 1099.3779296875, 1072.8704833984375, 1048.362060546875, 937.9592895507812, 890.3784790039062, 842.193115234375, 730.4302368164062, 697.078369140625, 588.2821655273438, 582.6317749023438, 526.0782470703125, 479.6899719238281, 468.20147705078125, 524.813232421875, 448.68914794921875, 435.92138671875, 431.0665588378906, 379.15185546875, 378.911376953125, 367.5797424316406, 359.3485412597656, 359.59039306640625, 351.8507080078125, 354.8375244140625, 351.3193054199219, 389.3329162597656, 348.9154052734375, 329.8058776855469, 560.120361328125, 649.779541015625, 420.2732238769531, 585.34130859375, 513.739013671875, 584.97412109375, 1073.5238037109375, 1018.965087890625, 1030.9891357421875, 701.5573120117188, 661.2687377929688, 506.6167907714844, 490.08868408203125, 484.6470642089844, 476.4580078125, 419.7167663574219, 415.7302551269531, 441.07086181640625, 503.9408874511719, 396.6629638671875, 360.6501159667969, 356.9884338378906, 368.7073974609375, 342.3553466796875, 343.5040283203125, 330.4394226074219, 333.9715270996094, 322.04052734375, 301.77435302734375, 291.3392639160156, 288.2093505859375, 285.201416015625, 282.62982177734375, 279.0419616699219, 276.9853210449219, 275.48797607421875, 434.14678955078125, 423.1674499511719, 295.00042724609375, 566.982421875, 381.367431640625, 322.1900939941406, 316.9201965332031, 390.8965759277344, 314.98431396484375, 493.3248596191406, 402.04254150390625, 2639.431640625, 1199.2296142578125, 960.4391479492188, 942.1970825195312, 902.2279052734375, 843.5946044921875, 686.065673828125, 649.89306640625, 642.21875, 588.7884521484375, 564.6636962890625, 552.527099609375, 538.2037963867188, 525.5975341796875, 524.6007080078125, 511.97625732421875, 503.2389221191406, 577.4297485351562, 484.7132568359375, 471.4875793457031, 465.7870178222656, 461.73492431640625, 441.7917175292969, 437.7484436035156, 437.9018249511719, 421.4592590332031, 425.11480712890625, 419.8332824707031, 380.2939453125, 375.770263671875, 378.57080078125, 398.4200439453125, 490.744140625, 811.505126953125, 1317.7220458984375, 750.4869995117188, 573.7567749023438, 568.76318359375, 548.62060546875, 534.4281005859375, 532.2418823242188, 647.0686645507812, 512.8297729492188, 492.0093688964844, 541.164306640625, 451.9215393066406, 436.5260925292969, 416.0035400390625, 421.89459228515625, 402.0870056152344, 384.7079772949219, 391.60321044921875, 355.27569580078125, 351.8434143066406, 351.56805419921875, 321.4283447265625, 310.78228759765625, 310.7124938964844, 298.089599609375, 297.2535095214844, 286.36541748046875, 275.24456787109375, 274.2854919433594, 273.2498779296875, 480.0128173828125, 497.38079833984375, 285.92633056640625, 348.11785888671875, 354.8690490722656, 481.0245056152344, 392.2734375, 1637.710693359375, 987.0805053710938, 729.3221435546875, 715.9177856445312, 583.12158203125, 538.1376342773438, 507.7928466796875, 510.00787353515625, 1488.830322265625, 460.2317199707031, 410.12646484375, 398.90948486328125, 400.5414123535156, 381.36322021484375, 383.85498046875, 364.4024963378906, 350.0929870605469, 344.1636047363281, 345.9710388183594, 339.47705078125, 336.7012634277344, 328.9326171875, 339.8863830566406, 315.5819091796875, 313.8177185058594, 764.4224243164062, 308.0986633300781, 297.65948486328125, 296.8089294433594, 293.8696594238281, 1682.317138671875, 747.26513671875, 379.3663635253906, 467.9528503417969, 495.1754150390625, 648.3510131835938, 416.3272705078125, 1401.59228515625, 1153.5787353515625, 859.1285400390625, 851.697265625, 922.7059936523438, 1179.128662109375, 692.0682983398438, 687.595947265625, 744.568359375, 437.0281677246094, 417.84716796875, 417.0124206542969, 414.2170715332031, 414.7240905761719, 406.55963134765625, 399.8153076171875, 403.7403869628906, 382.4252014160156, 377.5424499511719, 389.5292663574219, 378.2512512207031, 345.82763671875, 343.8667907714844, 335.9053649902344, 328.93780517578125, 310.51446533203125, 307.97393798828125, 302.066162109375, 302.0189208984375, 310.79290771484375, 396.6429138183594, 305.0167541503906, 343.58587646484375, 440.7394104003906, 412.7245788574219, 339.5986328125, 1663.005859375, 1013.2833251953125, 908.9179077148438, 905.4357299804688, 855.4730834960938, 1066.305908203125, 1025.434326171875, 631.4029541015625, 595.632568359375, 544.2723388671875, 589.6014404296875, 511.59747314453125, 504.0268859863281, 484.210693359375, 481.29461669921875, 438.6412048339844, 412.2732238769531, 406.9657287597656, 398.41668701171875, 507.1125793457031, 381.79779052734375, 377.9109802246094, 376.81195068359375, 372.2180480957031, 371.1586608886719, 354.4579162597656, 350.6233825683594, 350.931640625, 344.1818542480469, 345.9217224121094, 355.1883850097656, 348.558837890625, 373.7057189941406, 356.6370849609375, 850.159423828125, 726.8878784179688, 720.5233764648438, 611.4337768554688, 568.3001098632812, 689.54931640625, 479.12744140625, 550.819580078125, 479.2321472167969, 543.8038330078125, 447.6714172363281, 444.4630126953125, 441.6192932128906, 534.7365112304688, 998.4818725585938, 388.0872802734375, 375.827392578125, 906.9949340820312, 351.70599365234375, 345.7806091308594, 339.5550231933594, 335.57647705078125, 324.34881591796875, 313.54754638671875, 312.8393859863281, 293.6331481933594, 290.7186279296875, 287.97406005859375, 288.18865966796875, 285.9305114746094, 349.85760498046875, 387.6681213378906, 366.566650390625, 332.0928649902344, 304.9944763183594, 374.02069091796875, 363.3661193847656], \"loglift\": [30.0, 29.0, 28.0, 27.0, 26.0, 25.0, 24.0, 23.0, 22.0, 21.0, 20.0, 19.0, 18.0, 17.0, 16.0, 15.0, 14.0, 13.0, 12.0, 11.0, 10.0, 9.0, 8.0, 7.0, 6.0, 5.0, 4.0, 3.0, 2.0, 1.0, 2.2767999172210693, 2.276700019836426, 2.276700019836426, 2.2764999866485596, 2.2764999866485596, 2.276400089263916, 2.276400089263916, 2.2762999534606934, 2.276099920272827, 2.2760000228881836, 2.275899887084961, 2.2755000591278076, 2.2755000591278076, 2.275399923324585, 2.2753000259399414, 2.275099992752075, 2.2750000953674316, 2.2750000953674316, 2.274899959564209, 2.274899959564209, 2.274899959564209, 2.2748000621795654, 2.2748000621795654, 2.2746999263763428, 2.274600028991699, 2.274600028991699, 2.274600028991699, 2.2744998931884766, 2.2744998931884766, 2.2744998931884766, 2.2743000984191895, 2.2709999084472656, 2.263400077819824, 2.26419997215271, 2.266400098800659, 2.1391000747680664, 2.2228000164031982, 1.643399953842163, 2.1656999588012695, 2.178999900817871, 2.0246999263763428, 2.280100107192993, 2.2799999713897705, 2.2797999382019043, 2.2797999382019043, 2.2795000076293945, 2.279400110244751, 2.2792999744415283, 2.2792999744415283, 2.279099941253662, 2.278899908065796, 2.278899908065796, 2.2788000106811523, 2.278700113296509, 2.278599977493286, 2.278599977493286, 2.278599977493286, 2.2785000801086426, 2.2785000801086426, 2.2783000469207764, 2.2781999111175537, 2.2780001163482666, 2.2780001163482666, 2.2780001163482666, 2.2780001163482666, 2.277899980545044, 2.2778000831604004, 2.2778000831604004, 2.2776999473571777, 2.2776999473571777, 2.277600049972534, 2.2755000591278076, 2.2764999866485596, 2.264899969100952, 2.2599000930786133, 1.9651999473571777, 1.5198999643325806, 2.0385000705718994, 2.063699960708618, 2.058799982070923, 1.645300030708313, 2.283799886703491, 2.2836999893188477, 2.283600091934204, 2.283600091934204, 2.283600091934204, 2.283400058746338, 2.283400058746338, 2.2832999229431152, 2.283099889755249, 2.2827999591827393, 2.2827000617980957, 2.2827000617980957, 2.2825000286102295, 2.2822000980377197, 2.2822000980377197, 2.2822000980377197, 2.282099962234497, 2.2820000648498535, 2.2820000648498535, 2.281599998474121, 2.281599998474121, 2.2815001010894775, 2.281399965286255, 2.281399965286255, 2.281399965286255, 2.2813000679016113, 2.2813000679016113, 2.2813000679016113, 2.2811999320983887, 2.281100034713745, 2.2809998989105225, 2.268199920654297, 2.2743000984191895, 2.243000030517578, 2.0604000091552734, 1.9586000442504883, 2.28410005569458, 2.2839999198913574, 2.283600091934204, 2.283600091934204, 2.2834999561309814, 2.282900094985962, 2.2827999591827393, 2.2827999591827393, 2.2827999591827393, 2.282399892807007, 2.282399892807007, 2.282399892807007, 2.2822999954223633, 2.2822999954223633, 2.2820000648498535, 2.281899929046631, 2.2818000316619873, 2.2818000316619873, 2.2816998958587646, 2.2816998958587646, 2.2816998958587646, 2.281599998474121, 2.2813000679016113, 2.2811999320983887, 2.2811999320983887, 2.281100034713745, 2.281100034713745, 2.2809998989105225, 2.2809998989105225, 2.280900001525879, 2.2808001041412354, 2.2806999683380127, 2.2804999351501465, 2.266700029373169, 2.265500068664551, 2.2716000080108643, 2.270900011062622, 2.242500066757202, 2.2653000354766846, 2.050299882888794, 2.087399959564209, 2.288300037384033, 2.287899971008301, 2.287600040435791, 2.287600040435791, 2.2874999046325684, 2.287400007247925, 2.287100076675415, 2.2869999408721924, 2.2869999408721924, 2.286799907684326, 2.286799907684326, 2.2867000102996826, 2.2867000102996826, 2.286600112915039, 2.286600112915039, 2.2864999771118164, 2.2864999771118164, 2.286400079727173, 2.286400079727173, 2.286400079727173, 2.28629994392395, 2.28629994392395, 2.2862000465393066, 2.2862000465393066, 2.286099910736084, 2.286099910736084, 2.2860000133514404, 2.2860000133514404, 2.285799980163574, 2.2857000827789307, 2.2857000827789307, 2.2850000858306885, 2.276099920272827, 1.9966000318527222, 2.2971999645233154, 2.2964999675750732, 2.2960000038146973, 2.2960000038146973, 2.2959001064300537, 2.2959001064300537, 2.2959001064300537, 2.295799970626831, 2.2957000732421875, 2.2957000732421875, 2.295599937438965, 2.2955000400543213, 2.2953999042510986, 2.295300006866455, 2.2952001094818115, 2.2952001094818115, 2.295099973678589, 2.2948999404907227, 2.294800043106079, 2.2946999073028564, 2.294600009918213, 2.2945001125335693, 2.294300079345703, 2.294300079345703, 2.2941999435424805, 2.2941999435424805, 2.2939999103546143, 2.293800115585327, 2.293800115585327, 2.293800115585327, 2.287100076675415, 2.284899950027466, 2.293299913406372, 2.2862000465393066, 2.2669999599456787, 2.1986000537872314, 2.1730000972747803, 2.3062000274658203, 2.3057000637054443, 2.305299997329712, 2.305299997329712, 2.304800033569336, 2.3046998977661133, 2.3046000003814697, 2.3046000003814697, 2.30430006980896, 2.3041999340057373, 2.3041000366210938, 2.303999900817871, 2.303999900817871, 2.3039000034332275, 2.3039000034332275, 2.3036999702453613, 2.3036000728607178, 2.303499937057495, 2.303499937057495, 2.303499937057495, 2.303499937057495, 2.3034000396728516, 2.303299903869629, 2.3032000064849854, 2.3032000064849854, 2.303100109100342, 2.303100109100342, 2.302999973297119, 2.302999973297119, 2.3029000759124756, 2.3022000789642334, 2.3017001152038574, 2.3011999130249023, 2.298099994659424, 2.2513999938964844, 2.1298999786376953, 2.1659998893737793, 2.313199996948242, 2.312999963760376, 2.3125998973846436, 2.3125998973846436, 2.3125998973846436, 2.3125, 2.312299966812134, 2.3122000694274902, 2.311300039291382, 2.311300039291382, 2.311199903488159, 2.311199903488159, 2.311199903488159, 2.311199903488159, 2.3111000061035156, 2.3111000061035156, 2.311000108718872, 2.3108999729156494, 2.3108999729156494, 2.310800075531006, 2.310800075531006, 2.3106000423431396, 2.3106000423431396, 2.310499906539917, 2.3104000091552734, 2.3101999759674072, 2.3101999759674072, 2.3101000785827637, 2.3101000785827637, 2.3101000785827637, 2.309999942779541, 2.309999942779541, 2.308000087738037, 2.30049991607666, 2.291800022125244, 2.302999973297119, 2.3397998809814453, 2.3394999504089355, 2.339400053024292, 2.339400053024292, 2.3392999172210693, 2.338900089263916, 2.3387999534606934, 2.3387999534606934, 2.338599920272827, 2.3385000228881836, 2.338399887084961, 2.338399887084961, 2.338399887084961, 2.3382999897003174, 2.338200092315674, 2.3380000591278076, 2.337899923324585, 2.3378000259399414, 2.3378000259399414, 2.3376998901367188, 2.337599992752075, 2.337599992752075, 2.337599992752075, 2.3375000953674316, 2.337399959564209, 2.337399959564209, 2.337399959564209, 2.3373000621795654, 2.3373000621795654, 2.3373000621795654, 2.3371999263763428, 2.3373000621795654, 2.3364999294281006, 2.336699962615967, 2.348900079727173, 2.3487000465393066, 2.348599910736084, 2.348299980163574, 2.3482000827789307, 2.348099946975708, 2.3478000164031982, 2.3478000164031982, 2.3478000164031982, 2.3477001190185547, 2.3477001190185547, 2.347599983215332, 2.3475000858306885, 2.3475000858306885, 2.3473000526428223, 2.3471999168395996, 2.347100019454956, 2.3469998836517334, 2.34689998626709, 2.34689998626709, 2.3468000888824463, 2.3468000888824463, 2.34660005569458, 2.3464999198913574, 2.3464999198913574, 2.346299886703491, 2.3461999893188477, 2.3461999893188477, 2.3461999893188477, 2.3461999893188477, 2.344899892807007, 2.343600034713745, 2.343100070953369, 2.3436999320983887, 2.3452000617980957, 2.3266000747680664, 2.2660000324249268], \"logprob\": [30.0, 29.0, 28.0, 27.0, 26.0, 25.0, 24.0, 23.0, 22.0, 21.0, 20.0, 19.0, 18.0, 17.0, 16.0, 15.0, 14.0, 13.0, 12.0, 11.0, 10.0, 9.0, 8.0, 7.0, 6.0, 5.0, 4.0, 3.0, 2.0, 1.0, -5.329800128936768, -5.210599899291992, -5.3506999015808105, -5.463799953460693, -5.486700057983398, -5.53000020980835, -5.557199954986572, -5.572800159454346, -5.662799835205078, -5.593800067901611, -5.774799823760986, -5.2459001541137695, -5.8902997970581055, -5.736299991607666, -5.980400085449219, -6.059899806976318, -6.0040998458862305, -6.093299865722656, -6.0782999992370605, -6.104899883270264, -6.116300106048584, -6.138999938964844, -6.1219000816345215, -6.159599781036377, -6.030900001525879, -6.190899848937988, -6.207300186157227, -6.206200122833252, -6.205699920654297, -6.222799777984619, -5.9899001121521, -5.932300090789795, -5.592199802398682, -5.9807000160217285, -6.062099933624268, -5.5441999435424805, -6.065899848937988, -5.449900150299072, -6.0609002113342285, -6.087100028991699, -6.075300216674805, -5.286499977111816, -5.29640007019043, -5.276700019836426, -5.4593000411987305, -5.479000091552734, -5.644899845123291, -5.673299789428711, -5.593200206756592, -5.7428998947143555, -5.804299831390381, -5.863500118255615, -5.8744001388549805, -5.9394001960754395, -5.950500011444092, -5.957499980926514, -5.963399887084961, -5.947500228881836, -6.002699851989746, -6.067399978637695, -6.076200008392334, -6.1305999755859375, -6.133200168609619, -6.1479997634887695, -6.153900146484375, -6.176599979400635, -6.180300235748291, -6.1992998123168945, -6.214099884033203, -5.586400032043457, -6.245299816131592, -5.764999866485596, -5.994900226593018, -5.136000156402588, -5.88640022277832, -5.518899917602539, -5.573299884796143, -5.972599983215332, -6.014400005340576, -6.089000225067139, -6.025300025939941, -4.781000137329102, -4.8755998611450195, -4.924499988555908, -4.948999881744385, -4.972099781036377, -5.083499908447266, -5.1356000900268555, -5.191400051116943, -5.333899974822998, -5.380899906158447, -5.5507001876831055, -5.560400009155273, -5.662700176239014, -5.755300045013428, -5.779600143432617, -5.66540002822876, -5.822199821472168, -5.851200103759766, -5.862400054931641, -5.991099834442139, -5.991799831390381, -6.022200107574463, -6.044899940490723, -6.044300079345703, -6.066100120544434, -6.057700157165527, -6.067599773406982, -5.964900016784668, -6.0746002197265625, -6.13100004196167, -5.601500034332275, -5.465799808502197, -5.895400047302246, -5.595399856567383, -5.9085001945495605, -5.880499839782715, -4.947800159454346, -5.000100135803223, -4.988800048828125, -5.373799800872803, -5.433000087738037, -5.699999809265137, -5.7332000732421875, -5.7444000244140625, -5.761499881744385, -5.888599872589111, -5.898200035095215, -5.839099884033203, -5.705900192260742, -5.945300102233887, -6.040800094604492, -6.051000118255615, -6.018899917602539, -6.0929999351501465, -6.089700222015381, -6.128600120544434, -6.1178998947143555, -6.154399871826172, -6.219600200653076, -6.255000114440918, -6.2657999992370605, -6.276299953460693, -6.285399913787842, -6.298299789428711, -6.305699825286865, -6.311200141906738, -5.856500148773193, -5.882199764251709, -6.243199825286865, -5.603600025177002, -6.001399993896484, -6.163899898529053, -6.181099891662598, -5.99970006942749, -6.19290018081665, -5.959199905395508, -6.126699924468994, -4.044099807739258, -4.833399772644043, -5.055699825286865, -5.074900150299072, -5.118299961090088, -5.185500144958496, -5.392600059509277, -5.446800231933594, -5.458700180053711, -5.5457000732421875, -5.587699890136719, -5.609499931335449, -5.635799884796143, -5.6595001220703125, -5.661399841308594, -5.685800075531006, -5.703100204467773, -5.5655999183654785, -5.740699768066406, -5.768400192260742, -5.780600070953369, -5.789400100708008, -5.833600044250488, -5.842800140380859, -5.84250020980835, -5.880899906158447, -5.872200012207031, -5.884699821472168, -5.98390007019043, -5.9959001541137695, -5.98859977722168, -5.938199996948242, -5.738699913024902, -5.515200138092041, -4.729800224304199, -5.293399810791016, -5.562399864196777, -5.571199893951416, -5.6072998046875, -5.633500099182129, -5.637599945068359, -5.442399978637695, -5.675000190734863, -5.716400146484375, -5.621300220489502, -5.801599979400635, -5.836400032043457, -5.884699821472168, -5.870699882507324, -5.918799877166748, -5.963099956512451, -5.945499897003174, -6.043000221252441, -6.052800178527832, -6.053599834442139, -6.143400192260742, -6.177199840545654, -6.177499771118164, -6.219099998474121, -6.22189998626709, -6.259399890899658, -6.299099922180176, -6.302599906921387, -6.306399822235107, -5.74970006942749, -5.716300010681152, -6.261600017547607, -6.071899890899658, -6.071899890899658, -5.836100101470947, -6.065700054168701, -4.503399848937988, -5.010200023651123, -5.313199996948242, -5.3317999839782715, -5.537399768829346, -5.617800235748291, -5.675899982452393, -5.671599864959717, -4.600599765777588, -5.774700164794922, -5.890100002288818, -5.917900085449219, -5.91379976272583, -5.9629998207092285, -5.956500053405762, -6.008699893951416, -6.048900127410889, -6.065999984741211, -6.060800075531006, -6.079800128936768, -6.0879998207092285, -6.111400127410889, -6.078700065612793, -6.1529998779296875, -6.158599853515625, -5.268400192260742, -6.17710018157959, -6.211699962615967, -6.214600086212158, -6.224599838256836, -4.480500221252441, -5.292600154876709, -5.9710001945495605, -5.764200210571289, -5.75439977645874, -5.606299877166748, -6.013199806213379, -4.652100086212158, -4.847099781036377, -5.142099857330322, -5.1508002281188965, -5.070700168609619, -4.8256001472473145, -5.358699798583984, -5.365200042724609, -5.286499977111816, -5.819399833679199, -5.864299774169922, -5.866300106048584, -5.8730998039245605, -5.8719000816345215, -5.8917999267578125, -5.908599853515625, -5.898799896240234, -5.953199863433838, -5.966100215911865, -5.934899806976318, -5.964300155639648, -6.054100036621094, -6.059800148010254, -6.0833001136779785, -6.104300022125244, -6.162199974060059, -6.170400142669678, -6.189899921417236, -6.190000057220459, -6.161399841308594, -5.917600154876709, -6.180200099945068, -6.063199996948242, -5.821700096130371, -5.896100044250488, -6.079899787902832, -4.454500198364258, -4.950200080871582, -5.059000015258789, -5.062900066375732, -5.119699954986572, -4.899799823760986, -4.938899993896484, -5.423900127410889, -5.482399940490723, -5.572700023651123, -5.492800235748291, -5.634699821472168, -5.649600028991699, -5.689899921417236, -5.696000099182129, -5.788899898529053, -5.851099967956543, -5.864099979400635, -5.88539981842041, -5.644199848175049, -5.928100109100342, -5.938399791717529, -5.941299915313721, -5.95359992980957, -5.956600189208984, -6.002699851989746, -6.013599872589111, -6.012700080871582, -6.032199859619141, -6.027200222015381, -6.000800132751465, -6.019599914550781, -5.950699806213379, -5.997200012207031, -5.116300106048584, -5.273200035095215, -5.2820000648498535, -5.446499824523926, -5.519800186157227, -5.326499938964844, -5.690899848937988, -5.551400184631348, -5.690700054168701, -5.5644001960754395, -5.758900165557861, -5.76609992980957, -5.77269983291626, -5.581399917602539, -4.957200050354004, -5.902200222015381, -5.9344000816345215, -5.053500175476074, -6.000899791717529, -6.01800012588501, -6.036200046539307, -6.047999858856201, -6.082200050354004, -6.116199970245361, -6.1184000968933105, -6.182000160217285, -6.1921000480651855, -6.201600074768066, -6.200799942016602, -6.208700180053711, -6.008200168609619, -5.906899929046631, -5.963399887084961, -6.061500072479248, -6.145100116729736, -5.959700107574463, -6.049300193786621]}, \"token.table\": {\"Topic\": [1, 4, 9, 4, 5, 3, 10, 1, 1, 6, 8, 10, 2, 10, 9, 1, 4, 2, 4, 10, 1, 2, 3, 8, 9, 1, 2, 4, 4, 7, 8, 10, 7, 2, 1, 7, 5, 6, 10, 10, 1, 6, 2, 5, 8, 4, 9, 8, 4, 7, 10, 10, 4, 2, 6, 1, 10, 9, 7, 5, 7, 3, 4, 1, 6, 6, 10, 10, 2, 5, 2, 2, 1, 4, 10, 10, 5, 7, 8, 4, 2, 3, 9, 1, 4, 6, 2, 2, 3, 6, 8, 6, 9, 3, 1, 10, 1, 8, 1, 7, 1, 1, 1, 6, 6, 10, 3, 4, 8, 1, 9, 4, 7, 10, 5, 3, 8, 5, 7, 9, 6, 5, 3, 9, 3, 8, 6, 1, 4, 4, 2, 1, 9, 1, 2, 4, 9, 9, 10, 9, 8, 2, 3, 9, 1, 3, 6, 8, 4, 8, 10, 2, 1, 10, 3, 7, 8, 3, 7, 9, 5, 4, 5, 3, 7, 7, 3, 10, 2, 5, 4, 5, 5, 3, 6, 3, 9, 8, 8, 10, 6, 1, 3, 6, 9, 1, 3, 3, 5, 7, 5, 3, 4, 2, 8, 1, 5, 5, 4, 3, 6, 9, 6, 5, 7, 8, 5, 10, 6, 2, 10, 10, 7, 6, 5, 5, 9, 4, 3, 7, 7, 6, 6, 8, 5, 7, 4, 3, 8, 2, 4, 1, 7, 3, 9, 8, 10, 1, 6, 6, 5, 5, 8, 2, 1, 5, 2, 6, 6, 9, 6, 3, 9, 4, 1, 1, 2, 9, 10, 6, 1, 7, 3, 10, 7, 4, 3, 7, 9, 8, 1, 7, 5, 4, 5, 3, 7, 6, 1, 4, 8, 3, 1, 7, 9, 10, 3, 5, 9, 10, 3, 7, 9, 3, 2, 9, 5, 3, 5, 7, 4, 6, 8, 3, 7, 7, 4, 8, 5, 7, 4, 1, 4, 8, 9, 8, 1, 3, 8, 6, 7, 2, 6, 4, 4, 10, 9, 2, 3, 8, 2, 1, 9, 5, 8, 4, 9, 7, 8, 10, 9, 10, 9, 2, 6, 7, 10, 4, 10, 9, 2, 8, 5, 2, 4, 6, 4, 5, 10, 7, 8, 3, 1, 8, 3, 6, 2, 3, 7, 4, 6, 8, 5, 8, 3, 4, 6, 8, 1, 2, 4, 1, 4, 2, 5, 4, 2, 6, 7, 6, 1, 2, 8, 9, 4, 7, 8, 5, 5, 10, 2, 1, 1, 4, 8, 1, 6, 10, 8, 4, 9, 9, 2, 1, 2, 1, 6, 7, 8, 9, 10, 4, 2, 10, 1, 2, 5, 5, 2, 4, 9, 4, 7, 2, 4, 3, 8, 9, 10, 8, 3, 5, 10, 2, 4, 5, 10, 4, 8, 9, 6, 7, 2, 3, 7, 9, 8, 10, 5, 6, 7, 8, 3], \"Freq\": [0.0023033684119582176, 0.9950551390647888, 0.9955277442932129, 0.0025099138729274273, 0.996435821056366, 0.005159052088856697, 0.9931175112724304, 0.998873770236969, 0.9951522350311279, 0.0008480838732793927, 0.998194694519043, 0.9987785220146179, 0.9968134760856628, 0.9971983432769775, 0.9973452091217041, 0.9065315127372742, 0.09170116484165192, 0.20676030218601227, 0.7905541062355042, 0.9966829419136047, 0.9854097962379456, 0.01216555293649435, 0.9584152102470398, 0.03587650507688522, 0.0017084049759432673, 0.8703954219818115, 0.12873074412345886, 0.995787501335144, 0.0013081772485747933, 0.9968310594558716, 0.0013081772485747933, 0.9953022003173828, 0.9964340329170227, 0.9963907599449158, 0.995701014995575, 0.9972533583641052, 0.9975239634513855, 0.9980186223983765, 0.9934605956077576, 0.997712254524231, 0.9460314512252808, 0.0509195402264595, 0.2526170015335083, 0.7467605471611023, 0.9968376159667969, 0.9810012578964233, 0.015873806551098824, 0.997479259967804, 0.9806815385818481, 0.015732858330011368, 0.995064377784729, 0.9967456459999084, 0.9982922673225403, 0.9966216087341309, 0.9978795647621155, 0.9966633319854736, 0.0012442737352102995, 0.9953700304031372, 0.9956490397453308, 0.9882950186729431, 0.010188608430325985, 0.9985833168029785, 0.998081386089325, 0.9953731298446655, 0.9974828362464905, 0.8820378184318542, 0.11471589654684067, 0.9958754181861877, 0.9956521391868591, 0.00263400049880147, 0.9957733154296875, 0.9978176355361938, 0.7766784429550171, 0.2174699753522873, 0.0044381627812981606, 0.9973168969154358, 0.9979405999183655, 0.9973236918449402, 0.997448742389679, 0.9977802038192749, 0.9970596432685852, 0.9973764419555664, 0.9968774914741516, 0.006310736760497093, 0.9844749569892883, 0.0031553683802485466, 0.9974691271781921, 0.8007708787918091, 0.19786489009857178, 0.0025211593601852655, 0.9958579540252686, 0.9994520545005798, 0.9973354339599609, 0.9987097382545471, 0.005456033628433943, 0.9929981231689453, 0.9963154196739197, 0.9986314177513123, 0.9976115226745605, 0.9973921179771423, 0.9975330233573914, 0.9970849752426147, 0.9973732829093933, 0.9970460534095764, 0.9955398440361023, 0.9979926347732544, 0.9978863596916199, 0.9954030513763428, 0.9959145188331604, 0.99649977684021, 0.9979104399681091, 0.0026359744369983673, 0.9937623143196106, 0.997528076171875, 0.9980152249336243, 0.8000171184539795, 0.19854439795017242, 0.9970536231994629, 0.9974272847175598, 0.0020150046329945326, 0.996504008769989, 0.9985284805297852, 0.9955772161483765, 0.9965661764144897, 0.9975947737693787, 0.9981662034988403, 0.9977068901062012, 0.987269937992096, 0.008366694673895836, 0.9945987462997437, 0.9977660179138184, 0.9981166124343872, 0.9962584376335144, 0.5303056240081787, 0.4670581817626953, 0.0016217298107221723, 0.0008108649053610861, 0.9976623058319092, 0.9958414435386658, 0.9974996447563171, 0.9960740804672241, 0.9949042797088623, 0.9991886615753174, 0.9954096674919128, 0.9976772665977478, 0.9965450167655945, 0.9954783320426941, 0.9966920018196106, 0.9958075881004333, 0.9978935718536377, 0.001343060052022338, 0.9978150129318237, 0.9977342486381531, 0.9977531433105469, 0.12249977886676788, 0.8695082664489746, 0.004803913179785013, 0.0041609276086091995, 0.99505615234375, 0.9964442253112793, 0.9979501962661743, 0.9982434511184692, 0.9980931878089905, 0.9962447285652161, 0.9966190457344055, 0.9977200627326965, 0.9985616207122803, 0.9986362457275391, 0.9968429803848267, 0.9986258149147034, 0.959333062171936, 0.038373321294784546, 0.9972361326217651, 0.010052659548819065, 0.9871711730957031, 0.0026759023312479258, 0.9954356551170349, 0.9976473450660706, 0.021389190107584, 0.975881814956665, 0.9954258799552917, 0.9850632548332214, 0.005130537785589695, 0.005130537785589695, 0.9958869218826294, 0.9953867197036743, 0.9979504346847534, 0.9975565075874329, 0.9969605207443237, 0.9977726340293884, 0.9965975284576416, 0.9976397156715393, 0.9954246282577515, 0.9838250279426575, 0.015441199764609337, 0.9984760880470276, 0.9986608624458313, 0.9985015988349915, 0.9956439137458801, 0.9975257515907288, 0.9975876808166504, 0.9989901185035706, 0.9973278045654297, 0.9975380897521973, 0.9979172348976135, 0.9981511235237122, 0.002003040863201022, 0.9965128302574158, 0.9986581802368164, 0.9959145188331604, 0.9954203963279724, 0.9966965913772583, 0.9995660185813904, 0.9963447451591492, 0.9982079267501831, 0.0009751965408213437, 0.9986012578010559, 0.9972311854362488, 0.9987007975578308, 0.9981871843338013, 0.9972745776176453, 0.9983484745025635, 0.9978485107421875, 0.998863935470581, 0.004014639183878899, 0.9942923188209534, 0.9966087341308594, 0.9989772439002991, 0.9966665506362915, 0.7837100028991699, 0.2131853699684143, 0.9975219368934631, 0.9971932768821716, 0.9965764284133911, 0.998278021812439, 0.07705726474523544, 0.9191831350326538, 0.008333111181855202, 0.9895569086074829, 0.9981597065925598, 0.9984467029571533, 0.9969487190246582, 0.9979608058929443, 0.9972561597824097, 0.9969651699066162, 0.9977633357048035, 0.9977697134017944, 0.9983819723129272, 0.9959060549736023, 0.9972590804100037, 0.9976667165756226, 0.998451828956604, 0.9969117045402527, 0.9953692555427551, 0.9987967014312744, 0.9971930384635925, 0.5286223292350769, 0.46940505504608154, 0.9976550340652466, 0.9964092969894409, 0.9948278069496155, 0.9964253902435303, 0.9962472319602966, 0.9976468682289124, 0.9944248795509338, 0.9967689514160156, 0.052506644278764725, 0.9451196193695068, 0.9979626536369324, 0.9971489906311035, 0.9916452169418335, 0.004921316169202328, 0.995850682258606, 0.9869949817657471, 0.009311273694038391, 0.1604069322347641, 0.837509274482727, 0.9979608654975891, 0.9976640343666077, 0.8208086490631104, 0.1765982210636139, 0.9987466335296631, 0.996141254901886, 0.9989053606987, 0.997837483882904, 0.0009378171525895596, 0.997582197189331, 0.9968449473381042, 0.9972838759422302, 0.996708333492279, 0.997199296951294, 0.9968780279159546, 0.9978060722351074, 0.9978204965591431, 0.9960559606552124, 0.9987938404083252, 0.9973776340484619, 0.9898322820663452, 0.007138213608413935, 0.9961512684822083, 0.028179408982396126, 0.9693716764450073, 0.9976789355278015, 0.9980419278144836, 0.9980238080024719, 0.9949873089790344, 0.9958038926124573, 0.9984563589096069, 0.9981023073196411, 0.9980766177177429, 0.9970909953117371, 0.8941328525543213, 0.10326605290174484, 0.989403247833252, 0.008833957836031914, 0.9966263175010681, 0.998296320438385, 0.9962144494056702, 0.0017853305907920003, 0.9957830309867859, 0.9970406889915466, 0.9970755577087402, 0.9979484677314758, 0.999052882194519, 0.997778594493866, 0.9966175556182861, 0.9984143376350403, 0.9975705742835999, 0.9969620108604431, 0.9979725480079651, 0.998441755771637, 0.9980829954147339, 0.9978452324867249, 0.9986390471458435, 0.9964704513549805, 0.9948780536651611, 0.002363130683079362, 0.9987180233001709, 0.986977756023407, 0.011344571597874165, 0.9973101615905762, 0.9977424740791321, 0.996654212474823, 0.9965423941612244, 0.006410902366042137, 0.9915528893470764, 0.997798502445221, 0.996808648109436, 0.9963333010673523, 0.9967275857925415, 0.9983240962028503, 0.9962732791900635, 0.9987294673919678, 0.7287909388542175, 0.2697006165981293, 0.9952319264411926, 0.9960411190986633, 0.9983103275299072, 0.9967525601387024, 0.9971647262573242, 0.99918133020401, 0.99570232629776, 0.9969046711921692, 0.9973046779632568, 0.9984530210494995, 0.9976028800010681, 0.9959520101547241, 0.9974338412284851, 0.9973942637443542, 0.997572124004364, 0.9972965717315674, 0.9951227307319641, 0.0029104806017130613, 0.9953843355178833, 0.9834104776382446, 0.007694917730987072, 0.0015389835461974144, 0.006155934184789658, 0.002090893220156431, 0.9931743144989014, 0.002090893220156431, 0.0009699423098936677, 0.9980706572532654, 0.9785017967224121, 0.018593857064843178, 0.9956215023994446, 0.005745180882513523, 0.9881711006164551, 0.0028725904412567616, 0.9986810088157654, 0.00868415180593729, 0.8032839894294739, 0.08901255577802658, 0.09552566707134247, 0.9823938012123108, 0.015873508527874947, 0.9961638450622559, 0.999457597732544, 0.0028583058156073093, 0.9946904182434082, 0.9987170696258545, 0.9977750182151794, 0.9963930249214172, 0.9969398975372314, 0.9986864328384399, 0.9951850175857544, 0.995313286781311, 0.994438111782074, 0.9982540607452393, 0.9962659478187561, 0.9987335205078125, 0.9976270198822021, 0.9977308511734009, 0.997974693775177, 0.9958227872848511, 0.9978116154670715, 0.9043198227882385, 0.0041577923111617565, 0.0893925353884697, 0.002205084078013897, 0.9966979622840881, 0.9942333698272705, 0.9967259764671326, 0.9974288940429688, 0.001752855721861124, 0.9956220388412476, 0.998109757900238, 0.9982902407646179, 0.9969688057899475, 0.9961485862731934, 0.9968782663345337, 0.9966015219688416, 0.9961516857147217, 0.9974831938743591, 0.9985805749893188, 0.002422923222184181, 0.9788610339164734, 0.014537540264427662, 0.002422923222184181, 0.9970617294311523, 0.9984641075134277, 0.998408317565918, 0.9985002279281616, 0.9974002838134766, 0.9974340200424194, 0.9965376257896423, 0.9978857636451721, 0.9964426755905151, 0.9975721836090088, 0.9975894093513489, 0.9967602491378784, 0.9978860020637512, 0.9963682889938354, 0.7213994264602661, 0.276935338973999, 0.997778058052063, 0.003011205932125449, 0.9936979413032532, 0.9989746809005737, 0.9955562353134155, 0.9984386563301086, 0.9976068139076233, 0.9993303418159485], \"Term\": [\"102306\", \"102306\", \"103156\", \"10572\", \"10572\", \"107184\", \"107184\", \"109618\", \"110151\", \"111530\", \"111530\", \"112782\", \"11279\", \"115323\", \"115696\", \"116624\", \"116624\", \"11663\", \"11663\", \"118551\", \"118914\", \"118914\", \"120541\", \"120541\", \"120541\", \"12217\", \"12217\", \"122219\", \"122604\", \"122604\", \"122604\", \"124272\", \"124583\", \"128296\", \"128908\", \"132683\", \"133814\", \"133907\", \"138017\", \"138427\", \"13925\", \"13925\", \"142466\", \"142466\", \"143416\", \"143418\", \"143418\", \"143866\", \"14671\", \"14671\", \"149275\", \"150103\", \"151444\", \"152433\", \"153778\", \"158666\", \"158666\", \"15948\", \"159780\", \"159822\", \"159822\", \"161623\", \"162139\", \"16344\", \"165030\", \"165302\", \"165302\", \"167769\", \"170262\", \"170262\", \"170811\", \"17108\", \"17114\", \"17114\", \"17114\", \"171427\", \"171878\", \"172894\", \"174538\", \"17478\", \"175356\", \"177522\", \"180751\", \"183511\", \"183511\", \"183511\", \"184199\", \"186095\", \"186095\", \"186256\", \"186256\", \"187946\", \"188698\", \"190000\", \"190070\", \"190070\", \"190536\", \"191049\", \"191303\", \"193828\", \"197642\", \"199233\", \"204494\", \"206880\", \"208270\", \"210087\", \"212216\", \"212672\", \"212917\", \"213102\", \"215363\", \"215596\", \"215596\", \"216044\", \"216305\", \"218746\", \"218746\", \"218794\", \"219512\", \"219512\", \"222888\", \"22436\", \"225257\", \"225778\", \"227161\", \"227318\", \"227869\", \"228644\", \"228644\", \"22926\", \"231243\", \"231482\", \"232172\", \"234255\", \"234255\", \"234255\", \"234255\", \"235224\", \"23683\", \"23762\", \"237952\", \"240900\", \"241555\", \"243169\", \"243355\", \"243980\", \"244027\", \"245085\", \"24734\", \"247909\", \"247909\", \"248455\", \"253615\", \"254418\", \"255725\", \"255725\", \"255725\", \"257040\", \"257040\", \"257575\", \"259884\", \"260317\", \"260539\", \"26210\", \"263245\", \"263258\", \"264604\", \"266900\", \"268335\", \"268883\", \"272324\", \"272324\", \"272455\", \"272770\", \"272770\", \"272976\", \"272976\", \"274798\", \"276494\", \"276494\", \"277264\", \"277490\", \"277490\", \"277490\", \"279052\", \"279457\", \"283115\", \"2836\", \"283916\", \"286731\", \"287449\", \"289103\", \"290250\", \"290999\", \"290999\", \"29100\", \"291877\", \"29196\", \"291964\", \"292444\", \"294482\", \"298009\", \"299222\", \"299677\", \"302563\", \"303715\", \"303828\", \"303828\", \"304537\", \"305588\", \"307306\", \"308438\", \"309778\", \"309821\", \"310944\", \"312728\", \"312728\", \"314789\", \"315543\", \"315545\", \"316472\", \"316753\", \"318333\", \"320130\", \"320494\", \"320494\", \"322887\", \"325310\", \"32843\", \"328696\", \"328696\", \"330506\", \"331311\", \"33182\", \"335975\", \"337327\", \"337327\", \"338660\", \"338660\", \"339517\", \"339703\", \"340093\", \"340375\", \"340825\", \"340960\", \"341482\", \"342530\", \"344071\", \"344723\", \"345279\", \"350103\", \"350629\", \"351044\", \"351481\", \"354233\", \"354585\", \"355994\", \"355994\", \"357054\", \"358211\", \"358348\", \"358594\", \"359251\", \"359491\", \"359844\", \"359990\", \"360487\", \"360487\", \"361103\", \"361288\", \"361956\", \"361956\", \"365787\", \"367102\", \"367102\", \"367664\", \"367664\", \"368060\", \"368403\", \"369158\", \"369158\", \"369447\", \"369933\", \"37029\", \"370653\", \"370653\", \"37115\", \"372188\", \"374092\", \"378637\", \"379520\", \"380237\", \"380971\", \"382751\", \"382885\", \"384302\", \"385475\", \"385769\", \"385769\", \"388097\", \"389135\", \"389135\", \"389158\", \"38965\", \"390591\", \"391484\", \"392074\", \"393028\", \"393111\", \"394678\", \"395435\", \"395845\", \"395845\", \"396491\", \"396491\", \"397642\", \"398579\", \"399031\", \"399031\", \"399531\", \"399592\", \"399674\", \"4001\", \"400946\", \"405770\", \"408203\", \"409804\", \"411373\", \"412622\", \"413990\", \"414460\", \"416017\", \"417927\", \"420960\", \"421884\", \"422356\", \"422356\", \"422425\", \"422671\", \"422671\", \"424515\", \"425186\", \"425726\", \"429571\", \"432152\", \"432152\", \"432478\", \"434782\", \"438322\", \"438412\", \"438484\", \"440248\", \"441668\", \"441852\", \"441852\", \"441966\", \"442131\", \"444190\", \"444593\", \"445105\", \"445351\", \"445749\", \"446411\", \"446934\", \"447661\", \"448044\", \"448220\", \"448453\", \"449489\", \"449912\", \"450082\", \"450209\", \"45330\", \"45330\", \"453618\", \"453618\", \"453618\", \"453618\", \"454818\", \"454818\", \"454818\", \"455183\", \"455183\", \"456005\", \"456005\", \"457045\", \"457231\", \"457231\", \"457231\", \"459475\", \"460188\", \"460188\", \"460188\", \"460188\", \"46130\", \"46130\", \"46156\", \"461686\", \"462188\", \"462188\", \"46232\", \"463617\", \"463663\", \"464731\", \"48030\", \"48213\", \"50648\", \"51354\", \"51650\", \"52928\", \"5411\", \"54502\", \"546\", \"5470\", \"54875\", \"56323\", \"57788\", \"57788\", \"57788\", \"58638\", \"58638\", \"60980\", \"61303\", \"62549\", \"64951\", \"64951\", \"65273\", \"6605\", \"66752\", \"69533\", \"75779\", \"76060\", \"76426\", \"78265\", \"7943\", \"79572\", \"79572\", \"79572\", \"79572\", \"80435\", \"82278\", \"82586\", \"84160\", \"84310\", \"85579\", \"85914\", \"869\", \"88098\", \"89044\", \"89262\", \"89438\", \"89775\", \"90219\", \"91105\", \"91105\", \"91755\", \"9211\", \"9211\", \"96924\", \"97307\", \"98071\", \"98547\", \"9877\"]}, \"R\": 30, \"lambda.step\": 0.01, \"plot.opts\": {\"xlab\": \"PC1\", \"ylab\": \"PC2\"}, \"topic.order\": [1, 6, 3, 5, 8, 7, 10, 2, 9, 4]};\n",
       "\n",
       "function LDAvis_load_lib(url, callback){\n",
       "  var s = document.createElement('script');\n",
       "  s.src = url;\n",
       "  s.async = true;\n",
       "  s.onreadystatechange = s.onload = callback;\n",
       "  s.onerror = function(){console.warn(\"failed to load library \" + url);};\n",
       "  document.getElementsByTagName(\"head\")[0].appendChild(s);\n",
       "}\n",
       "\n",
       "if(typeof(LDAvis) !== \"undefined\"){\n",
       "   // already loaded: just create the visualization\n",
       "   !function(LDAvis){\n",
       "       new LDAvis(\"#\" + \"ldavis_el138911402698687263361685415420\", ldavis_el138911402698687263361685415420_data);\n",
       "   }(LDAvis);\n",
       "}else if(typeof define === \"function\" && define.amd){\n",
       "   // require.js is available: use it to load d3/LDAvis\n",
       "   require.config({paths: {d3: \"https://cdnjs.cloudflare.com/ajax/libs/d3/3.5.5/d3.min\"}});\n",
       "   require([\"d3\"], function(d3){\n",
       "      window.d3 = d3;\n",
       "      LDAvis_load_lib(\"https://cdn.rawgit.com/bmabey/pyLDAvis/files/ldavis.v1.0.0.js\", function(){\n",
       "        new LDAvis(\"#\" + \"ldavis_el138911402698687263361685415420\", ldavis_el138911402698687263361685415420_data);\n",
       "      });\n",
       "    });\n",
       "}else{\n",
       "    // require.js not available: dynamically load d3 & LDAvis\n",
       "    LDAvis_load_lib(\"https://cdnjs.cloudflare.com/ajax/libs/d3/3.5.5/d3.min.js\", function(){\n",
       "         LDAvis_load_lib(\"https://cdn.rawgit.com/bmabey/pyLDAvis/files/ldavis.v1.0.0.js\", function(){\n",
       "                 new LDAvis(\"#\" + \"ldavis_el138911402698687263361685415420\", ldavis_el138911402698687263361685415420_data);\n",
       "            })\n",
       "         });\n",
       "}\n",
       "</script>"
      ],
      "text/plain": [
       "<IPython.core.display.HTML object>"
      ]
     },
     "execution_count": 140,
     "metadata": {},
     "output_type": "execute_result"
    }
   ],
   "source": [
    "pyLDAvis.display(vis)"
   ]
  },
  {
   "cell_type": "code",
   "execution_count": 22,
   "metadata": {},
   "outputs": [],
   "source": [
    "plt.style.use('seaborn-white')\n",
    "matplotlib.rcParams.update({'font.size': 18})\n",
    "matplotlib.rc('xtick', labelsize=16) \n",
    "matplotlib.rc('ytick', labelsize=16) "
   ]
  },
  {
   "cell_type": "code",
   "execution_count": 28,
   "metadata": {},
   "outputs": [
    {
     "data": {
      "image/png": "[encoded data removed]",
      "text/plain": [
       "<Figure size 720x432 with 1 Axes>"
      ]
     },
     "metadata": {},
     "output_type": "display_data"
    }
   ],
   "source": [
    "fig, ax = plt.subplots(figsize=(10,6))\n",
    "ax = dfclustermask['item_count'].plot('hist', bins=20, log=True, color='seagreen')\n",
    "plt.xlabel('Product Interactions')\n",
    "plt.ylabel('Visitors (Log Scale)')\n",
    "# plt.title('Receiver operating characteristic example')\n",
    "plt.savefig(\"../img/product_hist.png\")"
   ]
  },
  {
   "cell_type": "code",
   "execution_count": null,
   "metadata": {},
   "outputs": [],
   "source": []
  }
 ],
 "metadata": {
  "kernelspec": {
   "display_name": "Python 3",
   "language": "python",
   "name": "python3"
  },
  "language_info": {
   "codemirror_mode": {
    "name": "ipython",
    "version": 3
   },
   "file_extension": ".py",
   "mimetype": "text/x-python",
   "name": "python",
   "nbconvert_exporter": "python",
   "pygments_lexer": "ipython3",
   "version": "3.7.3"
  }
 },
 "nbformat": 4,
 "nbformat_minor": 2
}
