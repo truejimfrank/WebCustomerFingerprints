{
 "cells": [
  {
   "cell_type": "code",
   "execution_count": 1,
   "metadata": {},
   "outputs": [],
   "source": [
    "import pandas as pd\n",
    "import numpy as np\n",
    "import matplotlib.pyplot as plt\n",
    "import datetime"
   ]
  },
  {
   "cell_type": "code",
   "execution_count": 4,
   "metadata": {},
   "outputs": [],
   "source": [
    "import statsmodels.api as sm\n",
    "# from statsmodels.discrete.discrete_model import Logit\n",
    "# from statsmodels.discrete.discrete_model import LogitResults\n",
    "from sklearn.model_selection import train_test_split # X, y, random_state=9\n",
    "from sklearn.preprocessing import StandardScaler # .fit(X_train), .transform(X) & y\n",
    "\n",
    "from sklearn.metrics import accuracy_score # (y_test, y_pred)\n",
    "from sklearn.metrics import classification_report # (y_test, y_pred)\n",
    "from sklearn.metrics import confusion_matrix # (y_test, y_pred)"
   ]
  },
  {
   "cell_type": "code",
   "execution_count": 2,
   "metadata": {},
   "outputs": [],
   "source": [
    "dfmodel = pd.read_pickle('../../data/ecommerce/dfmodel_script.pkl', compression='zip')"
   ]
  },
  {
   "cell_type": "code",
   "execution_count": 12,
   "metadata": {},
   "outputs": [
    {
     "data": {
      "text/html": [
       "<div>\n",
       "<style scoped>\n",
       "    .dataframe tbody tr th:only-of-type {\n",
       "        vertical-align: middle;\n",
       "    }\n",
       "\n",
       "    .dataframe tbody tr th {\n",
       "        vertical-align: top;\n",
       "    }\n",
       "\n",
       "    .dataframe thead th {\n",
       "        text-align: right;\n",
       "    }\n",
       "</style>\n",
       "<table border=\"1\" class=\"dataframe\">\n",
       "  <thead>\n",
       "    <tr style=\"text-align: right;\">\n",
       "      <th></th>\n",
       "      <th>timestamp</th>\n",
       "      <th>product_count</th>\n",
       "      <th>transactionid</th>\n",
       "      <th>addtocart</th>\n",
       "      <th>transaction</th>\n",
       "      <th>view</th>\n",
       "      <th>time_delta</th>\n",
       "      <th>time_hour</th>\n",
       "      <th>made_purchase</th>\n",
       "    </tr>\n",
       "    <tr>\n",
       "      <th>visitorid</th>\n",
       "      <th></th>\n",
       "      <th></th>\n",
       "      <th></th>\n",
       "      <th></th>\n",
       "      <th></th>\n",
       "      <th></th>\n",
       "      <th></th>\n",
       "      <th></th>\n",
       "      <th></th>\n",
       "    </tr>\n",
       "  </thead>\n",
       "  <tbody>\n",
       "    <tr>\n",
       "      <th>0</th>\n",
       "      <td>2015-09-11 14:55:17</td>\n",
       "      <td>3</td>\n",
       "      <td>NaN</td>\n",
       "      <td>0</td>\n",
       "      <td>0</td>\n",
       "      <td>3</td>\n",
       "      <td>00:05:28</td>\n",
       "      <td>0.091111</td>\n",
       "      <td>0</td>\n",
       "    </tr>\n",
       "    <tr>\n",
       "      <th>2</th>\n",
       "      <td>2015-08-07 12:20:57</td>\n",
       "      <td>4</td>\n",
       "      <td>NaN</td>\n",
       "      <td>0</td>\n",
       "      <td>0</td>\n",
       "      <td>8</td>\n",
       "      <td>00:29:13</td>\n",
       "      <td>0.486944</td>\n",
       "      <td>0</td>\n",
       "    </tr>\n",
       "    <tr>\n",
       "      <th>6</th>\n",
       "      <td>2015-08-30 21:21:25</td>\n",
       "      <td>3</td>\n",
       "      <td>NaN</td>\n",
       "      <td>1</td>\n",
       "      <td>0</td>\n",
       "      <td>5</td>\n",
       "      <td>21:17:37</td>\n",
       "      <td>21.293611</td>\n",
       "      <td>0</td>\n",
       "    </tr>\n",
       "  </tbody>\n",
       "</table>\n",
       "</div>"
      ],
      "text/plain": [
       "                    timestamp  product_count  transactionid  addtocart  \\\n",
       "visitorid                                                                \n",
       "0         2015-09-11 14:55:17              3            NaN          0   \n",
       "2         2015-08-07 12:20:57              4            NaN          0   \n",
       "6         2015-08-30 21:21:25              3            NaN          1   \n",
       "\n",
       "           transaction  view time_delta  time_hour  made_purchase  \n",
       "visitorid                                                          \n",
       "0                    0     3   00:05:28   0.091111              0  \n",
       "2                    0     8   00:29:13   0.486944              0  \n",
       "6                    0     5   21:17:37  21.293611              0  "
      ]
     },
     "execution_count": 12,
     "metadata": {},
     "output_type": "execute_result"
    }
   ],
   "source": [
    "dfmodel.head(3)\n",
    "# dfmodel.shape"
   ]
  },
  {
   "cell_type": "code",
   "execution_count": null,
   "metadata": {},
   "outputs": [],
   "source": [
    "sm.Logit()\n",
    "sm.add_constant()"
   ]
  },
  {
   "cell_type": "code",
   "execution_count": 11,
   "metadata": {},
   "outputs": [
    {
     "data": {
      "text/plain": [
       "(623, 9)"
      ]
     },
     "execution_count": 11,
     "metadata": {},
     "output_type": "execute_result"
    }
   ],
   "source": [
    "df20 = dfmodel.sample(20000, random_state=46)\n",
    "df20.head()\n",
    "df20[df20['transaction'] > 0].shape"
   ]
  },
  {
   "cell_type": "code",
   "execution_count": 13,
   "metadata": {},
   "outputs": [],
   "source": [
    "col_all = ['product_count', 'addtocart', 'transaction', 'view', 'time_hour']"
   ]
  },
  {
   "cell_type": "code",
   "execution_count": 14,
   "metadata": {},
   "outputs": [],
   "source": [
    "def sort_split(df):\n",
    "    \"\"\" return holdout, crossval, tank\n",
    "    data randomly split among groups for modelling\n",
    "    2x upsample 11449 purchase rows\n",
    "    380127 rows main dfmodel\n",
    "    \"\"\"\n",
    "    purmask = df['made_purchase'] == 1\n",
    "    pur = df[purmask]\n",
    "    nopur = df[~purmask]\n",
    "    pur = pur.sample(frac=2., replace=True, random_state=9) # upsample to 22898\n",
    "    upsamp_rows_size = pur.shape[0]\n",
    "    # split pur\n",
    "    holdpur = pur.sample(frac=0.25, random_state=9) #df\n",
    "    holdmask = pur.index.isin(holdpur.index)\n",
    "    crosspur = pur[~holdmask] #df\n",
    "    # split nopur\n",
    "    times4_size = upsamp_rows_size * 4\n",
    "    nopur_formodel = nopur.sample(n=times4_size, random_state=9) # pulls 91592\n",
    "    holdnopur = nopur_formodel.sample(frac=0.25, random_state=9) #df\n",
    "    holdmaskno = nopur_formodel.index.isin(holdpur.index)\n",
    "    crossnopur = nopur_formodel[~holdmaskno]  #df\n",
    "    # set aside tank data unused for model\n",
    "    tankmask = nopur.index.isin(nopur_formodel.index)\n",
    "    dftank = nopur[~tankmask]  #df\n",
    "    # combine for crossval and holdout\n",
    "    holdpur, holdnopur\n",
    "    "
   ]
  },
  {
   "cell_type": "code",
   "execution_count": 22,
   "metadata": {},
   "outputs": [
    {
     "name": "stdout",
     "output_type": "stream",
     "text": [
      "(368678, 9)\n",
      "(11449, 9)\n",
      "(380127, 9)\n"
     ]
    }
   ],
   "source": [
    "purmask = dfmodel['made_purchase'] == 1\n",
    "pur = dfmodel[purmask]\n",
    "print(dfmodel[~purmask].shape)\n",
    "print(pur.shape)\n",
    "print(dfmodel.shape)"
   ]
  },
  {
   "cell_type": "code",
   "execution_count": 28,
   "metadata": {},
   "outputs": [
    {
     "data": {
      "text/plain": [
       "(22898, 9)"
      ]
     },
     "execution_count": 28,
     "metadata": {},
     "output_type": "execute_result"
    }
   ],
   "source": [
    "testq = pur.sample(frac=0.25, random_state=9)\n",
    "pur.sample(frac=2., replace=True, random_state=9).shape"
   ]
  },
  {
   "cell_type": "code",
   "execution_count": 29,
   "metadata": {},
   "outputs": [
    {
     "data": {
      "text/plain": [
       "(2862, 9)"
      ]
     },
     "execution_count": 29,
     "metadata": {},
     "output_type": "execute_result"
    }
   ],
   "source": [
    "testq.shape"
   ]
  },
  {
   "cell_type": "code",
   "execution_count": 31,
   "metadata": {},
   "outputs": [
    {
     "data": {
      "text/plain": [
       "(11449,)"
      ]
     },
     "execution_count": 31,
     "metadata": {},
     "output_type": "execute_result"
    }
   ],
   "source": [
    "mask = pur.index.isin(testq.index)\n",
    "mask.shape"
   ]
  },
  {
   "cell_type": "code",
   "execution_count": 33,
   "metadata": {},
   "outputs": [
    {
     "data": {
      "text/plain": [
       "(8587, 9)"
      ]
     },
     "execution_count": 33,
     "metadata": {},
     "output_type": "execute_result"
    }
   ],
   "source": [
    "pur[~mask].shape"
   ]
  },
  {
   "cell_type": "code",
   "execution_count": 34,
   "metadata": {},
   "outputs": [
    {
     "data": {
      "text/plain": [
       "91592"
      ]
     },
     "execution_count": 34,
     "metadata": {},
     "output_type": "execute_result"
    }
   ],
   "source": [
    "22898 * 4"
   ]
  },
  {
   "cell_type": "code",
   "execution_count": null,
   "metadata": {},
   "outputs": [],
   "source": []
  }
 ],
 "metadata": {
  "kernelspec": {
   "display_name": "Python 3",
   "language": "python",
   "name": "python3"
  },
  "language_info": {
   "codemirror_mode": {
    "name": "ipython",
    "version": 3
   },
   "file_extension": ".py",
   "mimetype": "text/x-python",
   "name": "python",
   "nbconvert_exporter": "python",
   "pygments_lexer": "ipython3",
   "version": "3.7.3"
  }
 },
 "nbformat": 4,
 "nbformat_minor": 2
}
