{
 "cells": [
  {
   "cell_type": "code",
   "execution_count": 2,
   "metadata": {},
   "outputs": [],
   "source": [
    "import pandas as pd\n",
    "import numpy as np\n",
    "import matplotlib.pyplot as plt\n",
    "import datetime\n",
    "from collections import Counter"
   ]
  },
  {
   "cell_type": "code",
   "execution_count": 2,
   "metadata": {},
   "outputs": [],
   "source": [
    "import statsmodels.api as sm\n",
    "# from statsmodels.discrete.discrete_model import Logit\n",
    "# from statsmodels.discrete.discrete_model import LogitResults\n",
    "from sklearn.model_selection import train_test_split # X, y, random_state=9\n",
    "from sklearn.preprocessing import StandardScaler # .fit(X_train), .transform(X) & y\n",
    "\n",
    "from sklearn.metrics import accuracy_score # (y_test, y_pred)\n",
    "from sklearn.metrics import classification_report # (y_test, y_pred)\n",
    "from sklearn.metrics import confusion_matrix # (y_test, y_pred)"
   ]
  },
  {
   "cell_type": "code",
   "execution_count": 3,
   "metadata": {},
   "outputs": [],
   "source": [
    "dfmodel = pd.read_pickle('../../data/ecommerce/dfmodel_script.pkl', compression='zip')"
   ]
  },
  {
   "cell_type": "code",
   "execution_count": 12,
   "metadata": {},
   "outputs": [
    {
     "data": {
      "text/html": [
       "<div>\n",
       "<style scoped>\n",
       "    .dataframe tbody tr th:only-of-type {\n",
       "        vertical-align: middle;\n",
       "    }\n",
       "\n",
       "    .dataframe tbody tr th {\n",
       "        vertical-align: top;\n",
       "    }\n",
       "\n",
       "    .dataframe thead th {\n",
       "        text-align: right;\n",
       "    }\n",
       "</style>\n",
       "<table border=\"1\" class=\"dataframe\">\n",
       "  <thead>\n",
       "    <tr style=\"text-align: right;\">\n",
       "      <th></th>\n",
       "      <th>timestamp</th>\n",
       "      <th>product_count</th>\n",
       "      <th>transactionid</th>\n",
       "      <th>addtocart</th>\n",
       "      <th>transaction</th>\n",
       "      <th>view</th>\n",
       "      <th>time_delta</th>\n",
       "      <th>time_hour</th>\n",
       "      <th>made_purchase</th>\n",
       "    </tr>\n",
       "    <tr>\n",
       "      <th>visitorid</th>\n",
       "      <th></th>\n",
       "      <th></th>\n",
       "      <th></th>\n",
       "      <th></th>\n",
       "      <th></th>\n",
       "      <th></th>\n",
       "      <th></th>\n",
       "      <th></th>\n",
       "      <th></th>\n",
       "    </tr>\n",
       "  </thead>\n",
       "  <tbody>\n",
       "    <tr>\n",
       "      <th>0</th>\n",
       "      <td>2015-09-11 14:55:17</td>\n",
       "      <td>3</td>\n",
       "      <td>NaN</td>\n",
       "      <td>0</td>\n",
       "      <td>0</td>\n",
       "      <td>3</td>\n",
       "      <td>00:05:28</td>\n",
       "      <td>0.091111</td>\n",
       "      <td>0</td>\n",
       "    </tr>\n",
       "    <tr>\n",
       "      <th>2</th>\n",
       "      <td>2015-08-07 12:20:57</td>\n",
       "      <td>4</td>\n",
       "      <td>NaN</td>\n",
       "      <td>0</td>\n",
       "      <td>0</td>\n",
       "      <td>8</td>\n",
       "      <td>00:29:13</td>\n",
       "      <td>0.486944</td>\n",
       "      <td>0</td>\n",
       "    </tr>\n",
       "    <tr>\n",
       "      <th>6</th>\n",
       "      <td>2015-08-30 21:21:25</td>\n",
       "      <td>3</td>\n",
       "      <td>NaN</td>\n",
       "      <td>1</td>\n",
       "      <td>0</td>\n",
       "      <td>5</td>\n",
       "      <td>21:17:37</td>\n",
       "      <td>21.293611</td>\n",
       "      <td>0</td>\n",
       "    </tr>\n",
       "  </tbody>\n",
       "</table>\n",
       "</div>"
      ],
      "text/plain": [
       "                    timestamp  product_count  transactionid  addtocart  \\\n",
       "visitorid                                                                \n",
       "0         2015-09-11 14:55:17              3            NaN          0   \n",
       "2         2015-08-07 12:20:57              4            NaN          0   \n",
       "6         2015-08-30 21:21:25              3            NaN          1   \n",
       "\n",
       "           transaction  view time_delta  time_hour  made_purchase  \n",
       "visitorid                                                          \n",
       "0                    0     3   00:05:28   0.091111              0  \n",
       "2                    0     8   00:29:13   0.486944              0  \n",
       "6                    0     5   21:17:37  21.293611              0  "
      ]
     },
     "execution_count": 12,
     "metadata": {},
     "output_type": "execute_result"
    }
   ],
   "source": [
    "dfmodel.head(3)\n",
    "# dfmodel.shape"
   ]
  },
  {
   "cell_type": "code",
   "execution_count": 5,
   "metadata": {},
   "outputs": [
    {
     "data": {
      "text/plain": [
       "(623, 9)"
      ]
     },
     "execution_count": 5,
     "metadata": {},
     "output_type": "execute_result"
    }
   ],
   "source": [
    "df20 = dfmodel.sample(20000, random_state=46)\n",
    "df20.head()\n",
    "df20[df20['transaction'] > 0].shape"
   ]
  },
  {
   "cell_type": "code",
   "execution_count": 10,
   "metadata": {},
   "outputs": [],
   "source": [
    "col_all = ['product_count', 'addtocart', 'view', 'time_hour']"
   ]
  },
  {
   "cell_type": "code",
   "execution_count": 7,
   "metadata": {},
   "outputs": [],
   "source": [
    "def sort_split(df):\n",
    "    \"\"\" return holdout, crossval, tank\n",
    "    data randomly split among groups for modelling\n",
    "    2x upsample 11449 purchase rows\n",
    "    380127 rows main dfmodel\n",
    "    \"\"\"\n",
    "    intforrand = 9\n",
    "    purmask = df['made_purchase'] == 1\n",
    "    pur = df[purmask]\n",
    "    nopur = df[~purmask]\n",
    "    pur = pur.sample(frac=2., replace=True, random_state=intforrand) # upsample to 22898\n",
    "    upsamp_rows_size = pur.shape[0]\n",
    "    # split pur\n",
    "    holdpur = pur.sample(frac=0.25, random_state=intforrand) #df\n",
    "    holdmask = pur.index.isin(holdpur.index)\n",
    "    crosspur = pur[~holdmask] #df\n",
    "    # split nopur\n",
    "    times4_size = upsamp_rows_size * 4\n",
    "    nopur_formodel = nopur.sample(n=times4_size, random_state=intforrand) #  91592\n",
    "    holdnopur = nopur_formodel.sample(frac=0.25, random_state=intforrand) #df\n",
    "    holdmaskno = nopur_formodel.index.isin(holdpur.index)\n",
    "    crossnopur = nopur_formodel[~holdmaskno]  #df\n",
    "    # set aside tank data unused for model\n",
    "    tankmask = nopur.index.isin(nopur_formodel.index)\n",
    "    dftank = nopur[~tankmask]  #df\n",
    "    # combine for crossval and holdout\n",
    "    holdappended = holdnopur.append(holdpur)\n",
    "    crossappended = crossnopur.append(crosspur)\n",
    "    holdout = holdappended.sample(frac=1., random_state=intforrand)\n",
    "    crossval = crossappended.sample(frac=1., random_state=intforrand)\n",
    "    return holdout, crossval, dftank"
   ]
  },
  {
   "cell_type": "code",
   "execution_count": 4,
   "metadata": {},
   "outputs": [
    {
     "name": "stdout",
     "output_type": "stream",
     "text": [
      "(368678, 9)\n",
      "(11449, 9)\n",
      "(380127, 9)\n"
     ]
    }
   ],
   "source": [
    "purmask = dfmodel['made_purchase'] == 1\n",
    "pur = dfmodel[purmask]\n",
    "print(dfmodel[~purmask].shape)\n",
    "print(pur.shape)\n",
    "print(dfmodel.shape)"
   ]
  },
  {
   "cell_type": "code",
   "execution_count": 35,
   "metadata": {},
   "outputs": [
    {
     "data": {
      "text/plain": [
       "(11449, 9)"
      ]
     },
     "execution_count": 35,
     "metadata": {},
     "output_type": "execute_result"
    }
   ],
   "source": [
    "testq = pur.sample(frac=0.25, random_state=9)\n",
    "pur.sample(frac=1., replace=False, random_state=9).shape"
   ]
  },
  {
   "cell_type": "code",
   "execution_count": 31,
   "metadata": {},
   "outputs": [
    {
     "data": {
      "text/plain": [
       "(11449,)"
      ]
     },
     "execution_count": 31,
     "metadata": {},
     "output_type": "execute_result"
    }
   ],
   "source": [
    "mask = pur.index.isin(testq.index)\n",
    "mask.shape"
   ]
  },
  {
   "cell_type": "code",
   "execution_count": 33,
   "metadata": {},
   "outputs": [
    {
     "data": {
      "text/plain": [
       "(8587, 9)"
      ]
     },
     "execution_count": 33,
     "metadata": {},
     "output_type": "execute_result"
    }
   ],
   "source": [
    "pur[~mask].shape"
   ]
  },
  {
   "cell_type": "code",
   "execution_count": 8,
   "metadata": {},
   "outputs": [
    {
     "name": "stdout",
     "output_type": "stream",
     "text": [
      "(1558, 9) (5540, 9) (14393, 9)\n"
     ]
    }
   ],
   "source": [
    "holdout20, crossval20, tank20 = sort_split(df20)\n",
    "print(holdout20.shape, crossval20.shape, tank20.shape)"
   ]
  },
  {
   "cell_type": "code",
   "execution_count": 11,
   "metadata": {},
   "outputs": [
    {
     "name": "stdout",
     "output_type": "stream",
     "text": [
      "(5540, 4) (5540, 1)\n"
     ]
    }
   ],
   "source": [
    "# sm.Logit()\n",
    "# sm.add_constant()\n",
    "X20 = crossval20[col_all].to_numpy()\n",
    "y20 = crossval20['made_purchase'].to_numpy().reshape(-1,1)\n",
    "print(X20.shape, y20.shape)"
   ]
  },
  {
   "cell_type": "code",
   "execution_count": 59,
   "metadata": {},
   "outputs": [
    {
     "data": {
      "text/html": [
       "<div>\n",
       "<style scoped>\n",
       "    .dataframe tbody tr th:only-of-type {\n",
       "        vertical-align: middle;\n",
       "    }\n",
       "\n",
       "    .dataframe tbody tr th {\n",
       "        vertical-align: top;\n",
       "    }\n",
       "\n",
       "    .dataframe thead th {\n",
       "        text-align: right;\n",
       "    }\n",
       "</style>\n",
       "<table border=\"1\" class=\"dataframe\">\n",
       "  <thead>\n",
       "    <tr style=\"text-align: right;\">\n",
       "      <th></th>\n",
       "      <th>product_count</th>\n",
       "      <th>addtocart</th>\n",
       "      <th>view</th>\n",
       "      <th>time_hour</th>\n",
       "    </tr>\n",
       "    <tr>\n",
       "      <th>visitorid</th>\n",
       "      <th></th>\n",
       "      <th></th>\n",
       "      <th></th>\n",
       "      <th></th>\n",
       "    </tr>\n",
       "  </thead>\n",
       "  <tbody>\n",
       "    <tr>\n",
       "      <th>1340751</th>\n",
       "      <td>1</td>\n",
       "      <td>0</td>\n",
       "      <td>2</td>\n",
       "      <td>120.808889</td>\n",
       "    </tr>\n",
       "    <tr>\n",
       "      <th>1062248</th>\n",
       "      <td>4</td>\n",
       "      <td>0</td>\n",
       "      <td>4</td>\n",
       "      <td>0.080278</td>\n",
       "    </tr>\n",
       "  </tbody>\n",
       "</table>\n",
       "</div>"
      ],
      "text/plain": [
       "           product_count  addtocart  view   time_hour\n",
       "visitorid                                            \n",
       "1340751                1          0     2  120.808889\n",
       "1062248                4          0     4    0.080278"
      ]
     },
     "execution_count": 59,
     "metadata": {},
     "output_type": "execute_result"
    }
   ],
   "source": [
    "# crossval20[col_all].head().to_numpy()\n",
    "crossval20[col_all].head(2)\n",
    "# crossval20['made_purchase'].head()"
   ]
  },
  {
   "cell_type": "code",
   "execution_count": 12,
   "metadata": {},
   "outputs": [],
   "source": [
    "# STANDARDIZE\n",
    "scaler = StandardScaler().fit(X20)\n",
    "X20stan = scaler.transform(X20)"
   ]
  },
  {
   "cell_type": "code",
   "execution_count": 52,
   "metadata": {},
   "outputs": [],
   "source": [
    "X20 = sm.add_constant(X20)\n",
    "logit20 = sm.Logit(y20, X20) # endog, exog"
   ]
  },
  {
   "cell_type": "markdown",
   "metadata": {},
   "source": [
    "Logit.fit(start_params=None, method='newton', maxiter=35, full_output=1, disp=1, callback=None, **kwargs)  \n",
    "https://www.statsmodels.org/stable/generated/statsmodels.discrete.discrete_model.Logit.fit.html#statsmodels.discrete.discrete_model.Logit.fit"
   ]
  },
  {
   "cell_type": "code",
   "execution_count": null,
   "metadata": {},
   "outputs": [],
   "source": [
    "logit20_res = logit20.fit()"
   ]
  },
  {
   "cell_type": "code",
   "execution_count": null,
   "metadata": {},
   "outputs": [],
   "source": [
    "print('Parameters: ', logit20_res.params)\n",
    "print(logit20_res.summary2())"
   ]
  },
  {
   "cell_type": "code",
   "execution_count": null,
   "metadata": {},
   "outputs": [],
   "source": [
    "logit20.loglikeobs(logit20_res.params)[:50]"
   ]
  },
  {
   "cell_type": "code",
   "execution_count": 13,
   "metadata": {},
   "outputs": [
    {
     "name": "stdout",
     "output_type": "stream",
     "text": [
      "Optimization terminated successfully.\n",
      "         Current function value: 146.064159\n",
      "         Iterations 7\n"
     ]
    }
   ],
   "source": [
    "# X20stan = sm.add_constant(X20stan)\n",
    "logit20stan = sm.Logit(y20, X20stan) # endog, exog\n",
    "logit20stan_res = logit20stan.fit()"
   ]
  },
  {
   "cell_type": "code",
   "execution_count": 14,
   "metadata": {},
   "outputs": [
    {
     "name": "stdout",
     "output_type": "stream",
     "text": [
      "Parameters:  [ 0.83955311 17.84268107  1.40044474  1.00703565]\n",
      "                          Results: Logit\n",
      "===================================================================\n",
      "Model:              Logit            Pseudo R-squared: inf         \n",
      "Dependent Variable: y                AIC:              1618398.8768\n",
      "Date:               2020-02-07 02:42 BIC:              1618425.3558\n",
      "No. Observations:   5540             Log-Likelihood:   -8.0920e+05 \n",
      "Df Model:           3                LL-Null:          0.0000      \n",
      "Df Residuals:       5536             LLR p-value:      1.0000      \n",
      "Converged:          1.0000           Scale:            1.0000      \n",
      "No. Iterations:     7.0000                                         \n",
      "----------------------------------------------------------------------\n",
      "          Coef.     Std.Err.       z       P>|z|      [0.025    0.975]\n",
      "----------------------------------------------------------------------\n",
      "x1       -0.1749      0.1707    -1.0244    0.3056    -0.5095    0.1597\n",
      "x2        2.8816      0.1058    27.2280    0.0000     2.6742    3.0890\n",
      "x3        0.3368      0.1624     2.0733    0.0381     0.0184    0.6552\n",
      "x4        0.0070      0.0312     0.2246    0.8223    -0.0542    0.0682\n",
      "===================================================================\n",
      "\n"
     ]
    },
    {
     "name": "stderr",
     "output_type": "stream",
     "text": [
      "/home/scorpio/enter/lib/python3.7/site-packages/statsmodels/base/model.py:492: HessianInversionWarning: Inverting hessian failed, no bse or cov_params available\n",
      "  'available', HessianInversionWarning)\n",
      "/home/scorpio/enter/lib/python3.7/site-packages/statsmodels/base/model.py:492: HessianInversionWarning: Inverting hessian failed, no bse or cov_params available\n",
      "  'available', HessianInversionWarning)\n",
      "/home/scorpio/enter/lib/python3.7/site-packages/statsmodels/discrete/discrete_model.py:3390: RuntimeWarning: divide by zero encountered in double_scalars\n",
      "  return 1 - self.llf/self.llnull\n"
     ]
    }
   ],
   "source": [
    "print('Parameters: ', np.exp(logit20stan_res.params))\n",
    "print(logit20stan_res.summary2())"
   ]
  },
  {
   "cell_type": "code",
   "execution_count": 166,
   "metadata": {},
   "outputs": [
    {
     "data": {
      "text/plain": [
       "array([-1.78336072e+02, -1.79861965e+02, -1.84458708e+02, -1.74007403e+02,\n",
       "        0.00000000e+00, -1.27194286e-01, -1.79861273e+02, -1.84458755e+02,\n",
       "       -1.76339355e+02, -1.84458551e+02, -1.40756435e-01, -1.78760354e+02,\n",
       "       -1.71474411e+02, -1.84458585e+02, -3.10319503e+01, -1.64961449e+02,\n",
       "        0.00000000e+00, -1.78760502e+02, -1.37567141e+02, -1.47892445e-01,\n",
       "       -1.78760496e+02, -1.75670623e+02, -1.84119730e+02, -3.39169571e-05,\n",
       "       -1.45020742e-01, -1.84458741e+02, -1.49306122e+02, -1.68458438e+02,\n",
       "       -4.01990304e-07, -1.78755682e+02, -1.78760481e+02, -1.84275451e+02,\n",
       "       -1.65451780e+02, -1.76462108e+02, -1.84458793e+02, -1.67758046e+02,\n",
       "       -1.78760466e+02, -1.71865242e+02, -1.84458767e+02,  0.00000000e+00,\n",
       "       -1.79205880e+02, -1.84458802e+02, -1.75850955e+02, -1.09844350e-02,\n",
       "       -1.84458574e+02, -1.80907150e+02, -1.55872187e+02,  0.00000000e+00,\n",
       "       -1.61471733e+02, -1.76461859e+02])"
      ]
     },
     "execution_count": 166,
     "metadata": {},
     "output_type": "execute_result"
    }
   ],
   "source": [
    "logit20stan.loglikeobs(logit20stan_res.params)[:50]\n",
    "# exact same as unscaled"
   ]
  },
  {
   "cell_type": "code",
   "execution_count": 138,
   "metadata": {},
   "outputs": [
    {
     "data": {
      "text/plain": [
       "array([-0.1736138 , -0.41086118, -0.41095725, -0.32346313, -0.41092668,\n",
       "        2.93823953, -0.41047416, -0.41098346,  0.27395705, -0.41086937,\n",
       "       -0.31538153, -0.41093324,  2.37888283, -0.41088847, -0.35208251,\n",
       "        0.26348837,  2.74192471, -0.41101621, -0.40328015,  0.38608135])"
      ]
     },
     "execution_count": 138,
     "metadata": {},
     "output_type": "execute_result"
    }
   ],
   "source": [
    "X20stan[:20, 3]"
   ]
  },
  {
   "cell_type": "code",
   "execution_count": 15,
   "metadata": {},
   "outputs": [
    {
     "data": {
      "text/plain": [
       "array([0.33195477, 0.33062912, 0.32665187, 0.33572988, 0.99909036,\n",
       "       0.88056258, 0.33062972, 0.32665183, 0.3336935 , 0.32665201])"
      ]
     },
     "execution_count": 15,
     "metadata": {},
     "output_type": "execute_result"
    }
   ],
   "source": [
    "X20stan_prob = logit20stan_res.predict(X20stan)\n",
    "X20stan_prob[:10]"
   ]
  },
  {
   "cell_type": "code",
   "execution_count": 140,
   "metadata": {},
   "outputs": [
    {
     "data": {
      "text/plain": [
       "array([[ 0.12535505,  2.46381328, -0.21778814, -0.41092668],\n",
       "       [ 0.50868551,  0.66628571,  0.43399641,  2.93823953]])"
      ]
     },
     "execution_count": 140,
     "metadata": {},
     "output_type": "execute_result"
    }
   ],
   "source": [
    "X20stan[4:6] # cust with interesting numbers"
   ]
  },
  {
   "cell_type": "code",
   "execution_count": 30,
   "metadata": {},
   "outputs": [
    {
     "name": "stdout",
     "output_type": "stream",
     "text": [
      "(5540,)\n"
     ]
    }
   ],
   "source": [
    "print(X20stan_prob.shape)\n",
    "X20stan_pred = np.uint8(X20stan_prob.reshape(-1,1) > 0.5)\n",
    "# X20stan_prob.reshape(-1,1) == 1"
   ]
  },
  {
   "cell_type": "code",
   "execution_count": 31,
   "metadata": {},
   "outputs": [
    {
     "data": {
      "text/plain": [
       "0.9283393501805054"
      ]
     },
     "execution_count": 31,
     "metadata": {},
     "output_type": "execute_result"
    }
   ],
   "source": [
    "accuracy_score(y20, X20stan_pred) # y_test, y_pred"
   ]
  },
  {
   "cell_type": "code",
   "execution_count": 32,
   "metadata": {},
   "outputs": [
    {
     "name": "stdout",
     "output_type": "stream",
     "text": [
      "(5540, 1) (5540, 1)\n",
      "Counter({0: 4984, 1: 556}) Counter({0: 4689, 1: 851})\n"
     ]
    }
   ],
   "source": [
    "print(y20.shape, X20stan_pred.shape)\n",
    "print(Counter(y20[:, 0]), Counter(X20stan_pred[:, 0]))"
   ]
  },
  {
   "cell_type": "code",
   "execution_count": 19,
   "metadata": {},
   "outputs": [
    {
     "name": "stdout",
     "output_type": "stream",
     "text": [
      "              precision    recall  f1-score   support\n",
      "\n",
      "           0       0.99      0.93      0.96      4984\n",
      "           1       0.59      0.91      0.72       556\n",
      "\n",
      "    accuracy                           0.93      5540\n",
      "   macro avg       0.79      0.92      0.84      5540\n",
      "weighted avg       0.95      0.93      0.93      5540\n",
      "\n"
     ]
    }
   ],
   "source": [
    "print(classification_report(y20, X20stan_pred))"
   ]
  },
  {
   "cell_type": "code",
   "execution_count": 20,
   "metadata": {},
   "outputs": [
    {
     "name": "stdout",
     "output_type": "stream",
     "text": [
      "[[4638  346]\n",
      " [  51  505]]\n"
     ]
    }
   ],
   "source": [
    "print(confusion_matrix(y20, X20stan_pred)) # predict1 right col : actual1 bot row"
   ]
  },
  {
   "cell_type": "code",
   "execution_count": 164,
   "metadata": {},
   "outputs": [
    {
     "data": {
      "text/plain": [
       "0.908273381294964"
      ]
     },
     "execution_count": 164,
     "metadata": {},
     "output_type": "execute_result"
    }
   ],
   "source": [
    "505 / 556"
   ]
  },
  {
   "cell_type": "code",
   "execution_count": 3,
   "metadata": {},
   "outputs": [
    {
     "data": {
      "text/plain": [
       "(380127, 19)"
      ]
     },
     "execution_count": 3,
     "metadata": {},
     "output_type": "execute_result"
    }
   ],
   "source": [
    "dflda = pd.read_pickle('../../data/ecommerce/LDA_dfmodel.pkl', compression='zip')\n",
    "dflda.shape"
   ]
  },
  {
   "cell_type": "code",
   "execution_count": 4,
   "metadata": {},
   "outputs": [
    {
     "data": {
      "text/html": [
       "<div>\n",
       "<style scoped>\n",
       "    .dataframe tbody tr th:only-of-type {\n",
       "        vertical-align: middle;\n",
       "    }\n",
       "\n",
       "    .dataframe tbody tr th {\n",
       "        vertical-align: top;\n",
       "    }\n",
       "\n",
       "    .dataframe thead th {\n",
       "        text-align: right;\n",
       "    }\n",
       "</style>\n",
       "<table border=\"1\" class=\"dataframe\">\n",
       "  <thead>\n",
       "    <tr style=\"text-align: right;\">\n",
       "      <th></th>\n",
       "      <th>visitorid</th>\n",
       "      <th>timestamp</th>\n",
       "      <th>product_count</th>\n",
       "      <th>transactionid</th>\n",
       "      <th>addtocart</th>\n",
       "      <th>transaction</th>\n",
       "      <th>view</th>\n",
       "      <th>time_delta</th>\n",
       "      <th>time_hour</th>\n",
       "      <th>made_purchase</th>\n",
       "      <th>index</th>\n",
       "      <th>0</th>\n",
       "      <th>1</th>\n",
       "      <th>2</th>\n",
       "      <th>3</th>\n",
       "      <th>4</th>\n",
       "      <th>5</th>\n",
       "      <th>6</th>\n",
       "      <th>7</th>\n",
       "    </tr>\n",
       "  </thead>\n",
       "  <tbody>\n",
       "    <tr>\n",
       "      <th>0</th>\n",
       "      <td>0</td>\n",
       "      <td>2015-09-11 14:55:17</td>\n",
       "      <td>3</td>\n",
       "      <td>NaN</td>\n",
       "      <td>0</td>\n",
       "      <td>0</td>\n",
       "      <td>3</td>\n",
       "      <td>0 days 00:05:28</td>\n",
       "      <td>0.091111</td>\n",
       "      <td>0</td>\n",
       "      <td>0</td>\n",
       "      <td>0.031264</td>\n",
       "      <td>0.031264</td>\n",
       "      <td>0.031264</td>\n",
       "      <td>0.031264</td>\n",
       "      <td>0.031264</td>\n",
       "      <td>0.495942</td>\n",
       "      <td>0.316472</td>\n",
       "      <td>0.031264</td>\n",
       "    </tr>\n",
       "    <tr>\n",
       "      <th>1</th>\n",
       "      <td>2</td>\n",
       "      <td>2015-08-07 12:20:57</td>\n",
       "      <td>4</td>\n",
       "      <td>NaN</td>\n",
       "      <td>0</td>\n",
       "      <td>0</td>\n",
       "      <td>8</td>\n",
       "      <td>0 days 00:29:13</td>\n",
       "      <td>0.486944</td>\n",
       "      <td>0</td>\n",
       "      <td>0</td>\n",
       "      <td>0.013895</td>\n",
       "      <td>0.013895</td>\n",
       "      <td>0.369157</td>\n",
       "      <td>0.013895</td>\n",
       "      <td>0.013895</td>\n",
       "      <td>0.013895</td>\n",
       "      <td>0.013895</td>\n",
       "      <td>0.547474</td>\n",
       "    </tr>\n",
       "    <tr>\n",
       "      <th>2</th>\n",
       "      <td>6</td>\n",
       "      <td>2015-08-30 21:21:25</td>\n",
       "      <td>3</td>\n",
       "      <td>NaN</td>\n",
       "      <td>1</td>\n",
       "      <td>0</td>\n",
       "      <td>5</td>\n",
       "      <td>0 days 21:17:37</td>\n",
       "      <td>21.293611</td>\n",
       "      <td>0</td>\n",
       "      <td>0</td>\n",
       "      <td>0.017860</td>\n",
       "      <td>0.017860</td>\n",
       "      <td>0.160676</td>\n",
       "      <td>0.017860</td>\n",
       "      <td>0.017860</td>\n",
       "      <td>0.017860</td>\n",
       "      <td>0.589323</td>\n",
       "      <td>0.160700</td>\n",
       "    </tr>\n",
       "    <tr>\n",
       "      <th>3</th>\n",
       "      <td>7</td>\n",
       "      <td>2015-05-15 22:20:39</td>\n",
       "      <td>3</td>\n",
       "      <td>NaN</td>\n",
       "      <td>0</td>\n",
       "      <td>0</td>\n",
       "      <td>3</td>\n",
       "      <td>1 days 22:41:03</td>\n",
       "      <td>46.684167</td>\n",
       "      <td>0</td>\n",
       "      <td>0</td>\n",
       "      <td>0.041681</td>\n",
       "      <td>0.041681</td>\n",
       "      <td>0.708232</td>\n",
       "      <td>0.041681</td>\n",
       "      <td>0.041681</td>\n",
       "      <td>0.041681</td>\n",
       "      <td>0.041681</td>\n",
       "      <td>0.041681</td>\n",
       "    </tr>\n",
       "    <tr>\n",
       "      <th>4</th>\n",
       "      <td>13</td>\n",
       "      <td>2015-06-17 22:43:15</td>\n",
       "      <td>2</td>\n",
       "      <td>NaN</td>\n",
       "      <td>0</td>\n",
       "      <td>0</td>\n",
       "      <td>2</td>\n",
       "      <td>0 days 00:00:53</td>\n",
       "      <td>0.014722</td>\n",
       "      <td>0</td>\n",
       "      <td>0</td>\n",
       "      <td>0.062644</td>\n",
       "      <td>0.561490</td>\n",
       "      <td>0.062644</td>\n",
       "      <td>0.062644</td>\n",
       "      <td>0.062644</td>\n",
       "      <td>0.062644</td>\n",
       "      <td>0.062644</td>\n",
       "      <td>0.062644</td>\n",
       "    </tr>\n",
       "  </tbody>\n",
       "</table>\n",
       "</div>"
      ],
      "text/plain": [
       "   visitorid           timestamp  product_count  transactionid  addtocart  \\\n",
       "0          0 2015-09-11 14:55:17              3            NaN          0   \n",
       "1          2 2015-08-07 12:20:57              4            NaN          0   \n",
       "2          6 2015-08-30 21:21:25              3            NaN          1   \n",
       "3          7 2015-05-15 22:20:39              3            NaN          0   \n",
       "4         13 2015-06-17 22:43:15              2            NaN          0   \n",
       "\n",
       "   transaction  view      time_delta  time_hour  made_purchase  index  \\\n",
       "0            0     3 0 days 00:05:28   0.091111              0      0   \n",
       "1            0     8 0 days 00:29:13   0.486944              0      0   \n",
       "2            0     5 0 days 21:17:37  21.293611              0      0   \n",
       "3            0     3 1 days 22:41:03  46.684167              0      0   \n",
       "4            0     2 0 days 00:00:53   0.014722              0      0   \n",
       "\n",
       "          0         1         2         3         4         5         6  \\\n",
       "0  0.031264  0.031264  0.031264  0.031264  0.031264  0.495942  0.316472   \n",
       "1  0.013895  0.013895  0.369157  0.013895  0.013895  0.013895  0.013895   \n",
       "2  0.017860  0.017860  0.160676  0.017860  0.017860  0.017860  0.589323   \n",
       "3  0.041681  0.041681  0.708232  0.041681  0.041681  0.041681  0.041681   \n",
       "4  0.062644  0.561490  0.062644  0.062644  0.062644  0.062644  0.062644   \n",
       "\n",
       "          7  \n",
       "0  0.031264  \n",
       "1  0.547474  \n",
       "2  0.160700  \n",
       "3  0.041681  \n",
       "4  0.062644  "
      ]
     },
     "execution_count": 4,
     "metadata": {},
     "output_type": "execute_result"
    }
   ],
   "source": [
    "dflda.head()"
   ]
  },
  {
   "cell_type": "code",
   "execution_count": 7,
   "metadata": {},
   "outputs": [
    {
     "data": {
      "text/html": [
       "<div>\n",
       "<style scoped>\n",
       "    .dataframe tbody tr th:only-of-type {\n",
       "        vertical-align: middle;\n",
       "    }\n",
       "\n",
       "    .dataframe tbody tr th {\n",
       "        vertical-align: top;\n",
       "    }\n",
       "\n",
       "    .dataframe thead th {\n",
       "        text-align: right;\n",
       "    }\n",
       "</style>\n",
       "<table border=\"1\" class=\"dataframe\">\n",
       "  <thead>\n",
       "    <tr style=\"text-align: right;\">\n",
       "      <th></th>\n",
       "      <th>made_purchase</th>\n",
       "      <th>0</th>\n",
       "      <th>1</th>\n",
       "      <th>2</th>\n",
       "    </tr>\n",
       "  </thead>\n",
       "  <tbody>\n",
       "    <tr>\n",
       "      <th>0</th>\n",
       "      <td>0</td>\n",
       "      <td>0.031264</td>\n",
       "      <td>0.031264</td>\n",
       "      <td>0.031264</td>\n",
       "    </tr>\n",
       "    <tr>\n",
       "      <th>1</th>\n",
       "      <td>0</td>\n",
       "      <td>0.013895</td>\n",
       "      <td>0.013895</td>\n",
       "      <td>0.369157</td>\n",
       "    </tr>\n",
       "    <tr>\n",
       "      <th>2</th>\n",
       "      <td>0</td>\n",
       "      <td>0.017860</td>\n",
       "      <td>0.017860</td>\n",
       "      <td>0.160676</td>\n",
       "    </tr>\n",
       "    <tr>\n",
       "      <th>3</th>\n",
       "      <td>0</td>\n",
       "      <td>0.041681</td>\n",
       "      <td>0.041681</td>\n",
       "      <td>0.708232</td>\n",
       "    </tr>\n",
       "    <tr>\n",
       "      <th>4</th>\n",
       "      <td>0</td>\n",
       "      <td>0.062644</td>\n",
       "      <td>0.561490</td>\n",
       "      <td>0.062644</td>\n",
       "    </tr>\n",
       "  </tbody>\n",
       "</table>\n",
       "</div>"
      ],
      "text/plain": [
       "   made_purchase         0         1         2\n",
       "0              0  0.031264  0.031264  0.031264\n",
       "1              0  0.013895  0.013895  0.369157\n",
       "2              0  0.017860  0.017860  0.160676\n",
       "3              0  0.041681  0.041681  0.708232\n",
       "4              0  0.062644  0.561490  0.062644"
      ]
     },
     "execution_count": 7,
     "metadata": {},
     "output_type": "execute_result"
    }
   ],
   "source": [
    "dflda[['made_purchase', 0, 1, 2]].head()"
   ]
  },
  {
   "cell_type": "code",
   "execution_count": 8,
   "metadata": {},
   "outputs": [
    {
     "name": "stdout",
     "output_type": "stream",
     "text": [
      "<class 'pandas.core.frame.DataFrame'>\n",
      "RangeIndex: 380127 entries, 0 to 380126\n",
      "Data columns (total 19 columns):\n",
      "visitorid        380127 non-null int64\n",
      "timestamp        380127 non-null datetime64[ns]\n",
      "product_count    380127 non-null int64\n",
      "transactionid    11449 non-null float64\n",
      "addtocart        380127 non-null int64\n",
      "transaction      380127 non-null int64\n",
      "view             380127 non-null int64\n",
      "time_delta       380127 non-null timedelta64[ns]\n",
      "time_hour        380127 non-null float64\n",
      "made_purchase    380127 non-null uint8\n",
      "index            380127 non-null int64\n",
      "0                380127 non-null float64\n",
      "1                380127 non-null float64\n",
      "2                380127 non-null float64\n",
      "3                380127 non-null float64\n",
      "4                380127 non-null float64\n",
      "5                380127 non-null float64\n",
      "6                380127 non-null float64\n",
      "7                380127 non-null float64\n",
      "dtypes: datetime64[ns](1), float64(10), int64(6), timedelta64[ns](1), uint8(1)\n",
      "memory usage: 52.6 MB\n"
     ]
    }
   ],
   "source": [
    "dflda.info()"
   ]
  },
  {
   "cell_type": "code",
   "execution_count": null,
   "metadata": {},
   "outputs": [],
   "source": []
  }
 ],
 "metadata": {
  "kernelspec": {
   "display_name": "Python 3",
   "language": "python",
   "name": "python3"
  },
  "language_info": {
   "codemirror_mode": {
    "name": "ipython",
    "version": 3
   },
   "file_extension": ".py",
   "mimetype": "text/x-python",
   "name": "python",
   "nbconvert_exporter": "python",
   "pygments_lexer": "ipython3",
   "version": "3.7.3"
  }
 },
 "nbformat": 4,
 "nbformat_minor": 2
}
