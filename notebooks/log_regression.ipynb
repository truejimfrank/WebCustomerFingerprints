{
 "cells": [
  {
   "cell_type": "code",
   "execution_count": 117,
   "metadata": {},
   "outputs": [],
   "source": [
    "import pandas as pd\n",
    "import numpy as np\n",
    "import matplotlib.pyplot as plt\n",
    "import datetime\n",
    "from collections import Counter"
   ]
  },
  {
   "cell_type": "code",
   "execution_count": 4,
   "metadata": {},
   "outputs": [],
   "source": [
    "import statsmodels.api as sm\n",
    "# from statsmodels.discrete.discrete_model import Logit\n",
    "# from statsmodels.discrete.discrete_model import LogitResults\n",
    "from sklearn.model_selection import train_test_split # X, y, random_state=9\n",
    "from sklearn.preprocessing import StandardScaler # .fit(X_train), .transform(X) & y\n",
    "\n",
    "from sklearn.metrics import accuracy_score # (y_test, y_pred)\n",
    "from sklearn.metrics import classification_report # (y_test, y_pred)\n",
    "from sklearn.metrics import confusion_matrix # (y_test, y_pred)"
   ]
  },
  {
   "cell_type": "code",
   "execution_count": 2,
   "metadata": {},
   "outputs": [],
   "source": [
    "dfmodel = pd.read_pickle('../../data/ecommerce/dfmodel_script.pkl', compression='zip')"
   ]
  },
  {
   "cell_type": "code",
   "execution_count": 12,
   "metadata": {},
   "outputs": [
    {
     "data": {
      "text/html": [
       "<div>\n",
       "<style scoped>\n",
       "    .dataframe tbody tr th:only-of-type {\n",
       "        vertical-align: middle;\n",
       "    }\n",
       "\n",
       "    .dataframe tbody tr th {\n",
       "        vertical-align: top;\n",
       "    }\n",
       "\n",
       "    .dataframe thead th {\n",
       "        text-align: right;\n",
       "    }\n",
       "</style>\n",
       "<table border=\"1\" class=\"dataframe\">\n",
       "  <thead>\n",
       "    <tr style=\"text-align: right;\">\n",
       "      <th></th>\n",
       "      <th>timestamp</th>\n",
       "      <th>product_count</th>\n",
       "      <th>transactionid</th>\n",
       "      <th>addtocart</th>\n",
       "      <th>transaction</th>\n",
       "      <th>view</th>\n",
       "      <th>time_delta</th>\n",
       "      <th>time_hour</th>\n",
       "      <th>made_purchase</th>\n",
       "    </tr>\n",
       "    <tr>\n",
       "      <th>visitorid</th>\n",
       "      <th></th>\n",
       "      <th></th>\n",
       "      <th></th>\n",
       "      <th></th>\n",
       "      <th></th>\n",
       "      <th></th>\n",
       "      <th></th>\n",
       "      <th></th>\n",
       "      <th></th>\n",
       "    </tr>\n",
       "  </thead>\n",
       "  <tbody>\n",
       "    <tr>\n",
       "      <th>0</th>\n",
       "      <td>2015-09-11 14:55:17</td>\n",
       "      <td>3</td>\n",
       "      <td>NaN</td>\n",
       "      <td>0</td>\n",
       "      <td>0</td>\n",
       "      <td>3</td>\n",
       "      <td>00:05:28</td>\n",
       "      <td>0.091111</td>\n",
       "      <td>0</td>\n",
       "    </tr>\n",
       "    <tr>\n",
       "      <th>2</th>\n",
       "      <td>2015-08-07 12:20:57</td>\n",
       "      <td>4</td>\n",
       "      <td>NaN</td>\n",
       "      <td>0</td>\n",
       "      <td>0</td>\n",
       "      <td>8</td>\n",
       "      <td>00:29:13</td>\n",
       "      <td>0.486944</td>\n",
       "      <td>0</td>\n",
       "    </tr>\n",
       "    <tr>\n",
       "      <th>6</th>\n",
       "      <td>2015-08-30 21:21:25</td>\n",
       "      <td>3</td>\n",
       "      <td>NaN</td>\n",
       "      <td>1</td>\n",
       "      <td>0</td>\n",
       "      <td>5</td>\n",
       "      <td>21:17:37</td>\n",
       "      <td>21.293611</td>\n",
       "      <td>0</td>\n",
       "    </tr>\n",
       "  </tbody>\n",
       "</table>\n",
       "</div>"
      ],
      "text/plain": [
       "                    timestamp  product_count  transactionid  addtocart  \\\n",
       "visitorid                                                                \n",
       "0         2015-09-11 14:55:17              3            NaN          0   \n",
       "2         2015-08-07 12:20:57              4            NaN          0   \n",
       "6         2015-08-30 21:21:25              3            NaN          1   \n",
       "\n",
       "           transaction  view time_delta  time_hour  made_purchase  \n",
       "visitorid                                                          \n",
       "0                    0     3   00:05:28   0.091111              0  \n",
       "2                    0     8   00:29:13   0.486944              0  \n",
       "6                    0     5   21:17:37  21.293611              0  "
      ]
     },
     "execution_count": 12,
     "metadata": {},
     "output_type": "execute_result"
    }
   ],
   "source": [
    "dfmodel.head(3)\n",
    "# dfmodel.shape"
   ]
  },
  {
   "cell_type": "code",
   "execution_count": 11,
   "metadata": {},
   "outputs": [
    {
     "data": {
      "text/plain": [
       "(623, 9)"
      ]
     },
     "execution_count": 11,
     "metadata": {},
     "output_type": "execute_result"
    }
   ],
   "source": [
    "df20 = dfmodel.sample(20000, random_state=46)\n",
    "df20.head()\n",
    "df20[df20['transaction'] > 0].shape"
   ]
  },
  {
   "cell_type": "code",
   "execution_count": 41,
   "metadata": {},
   "outputs": [],
   "source": [
    "col_all = ['product_count', 'addtocart', 'view', 'time_hour']"
   ]
  },
  {
   "cell_type": "code",
   "execution_count": 36,
   "metadata": {},
   "outputs": [],
   "source": [
    "def sort_split(df):\n",
    "    \"\"\" return holdout, crossval, tank\n",
    "    data randomly split among groups for modelling\n",
    "    2x upsample 11449 purchase rows\n",
    "    380127 rows main dfmodel\n",
    "    \"\"\"\n",
    "    intforrand = 9\n",
    "    purmask = df['made_purchase'] == 1\n",
    "    pur = df[purmask]\n",
    "    nopur = df[~purmask]\n",
    "    pur = pur.sample(frac=2., replace=True, random_state=intforrand) # upsample to 22898\n",
    "    upsamp_rows_size = pur.shape[0]\n",
    "    # split pur\n",
    "    holdpur = pur.sample(frac=0.25, random_state=intforrand) #df\n",
    "    holdmask = pur.index.isin(holdpur.index)\n",
    "    crosspur = pur[~holdmask] #df\n",
    "    # split nopur\n",
    "    times4_size = upsamp_rows_size * 4\n",
    "    nopur_formodel = nopur.sample(n=times4_size, random_state=intforrand) #  91592\n",
    "    holdnopur = nopur_formodel.sample(frac=0.25, random_state=intforrand) #df\n",
    "    holdmaskno = nopur_formodel.index.isin(holdpur.index)\n",
    "    crossnopur = nopur_formodel[~holdmaskno]  #df\n",
    "    # set aside tank data unused for model\n",
    "    tankmask = nopur.index.isin(nopur_formodel.index)\n",
    "    dftank = nopur[~tankmask]  #df\n",
    "    # combine for crossval and holdout\n",
    "    holdappended = holdnopur.append(holdpur)\n",
    "    crossappended = crossnopur.append(crosspur)\n",
    "    holdout = holdappended.sample(frac=1., random_state=intforrand)\n",
    "    crossval = crossappended.sample(frac=1., random_state=intforrand)\n",
    "    return holdout, crossval, dftank"
   ]
  },
  {
   "cell_type": "code",
   "execution_count": 22,
   "metadata": {},
   "outputs": [
    {
     "name": "stdout",
     "output_type": "stream",
     "text": [
      "(368678, 9)\n",
      "(11449, 9)\n",
      "(380127, 9)\n"
     ]
    }
   ],
   "source": [
    "purmask = dfmodel['made_purchase'] == 1\n",
    "pur = dfmodel[purmask]\n",
    "print(dfmodel[~purmask].shape)\n",
    "print(pur.shape)\n",
    "print(dfmodel.shape)"
   ]
  },
  {
   "cell_type": "code",
   "execution_count": 35,
   "metadata": {},
   "outputs": [
    {
     "data": {
      "text/plain": [
       "(11449, 9)"
      ]
     },
     "execution_count": 35,
     "metadata": {},
     "output_type": "execute_result"
    }
   ],
   "source": [
    "testq = pur.sample(frac=0.25, random_state=9)\n",
    "pur.sample(frac=1., replace=False, random_state=9).shape"
   ]
  },
  {
   "cell_type": "code",
   "execution_count": 31,
   "metadata": {},
   "outputs": [
    {
     "data": {
      "text/plain": [
       "(11449,)"
      ]
     },
     "execution_count": 31,
     "metadata": {},
     "output_type": "execute_result"
    }
   ],
   "source": [
    "mask = pur.index.isin(testq.index)\n",
    "mask.shape"
   ]
  },
  {
   "cell_type": "code",
   "execution_count": 33,
   "metadata": {},
   "outputs": [
    {
     "data": {
      "text/plain": [
       "(8587, 9)"
      ]
     },
     "execution_count": 33,
     "metadata": {},
     "output_type": "execute_result"
    }
   ],
   "source": [
    "pur[~mask].shape"
   ]
  },
  {
   "cell_type": "code",
   "execution_count": 38,
   "metadata": {},
   "outputs": [
    {
     "name": "stdout",
     "output_type": "stream",
     "text": [
      "(1558, 9) (5540, 9) (14393, 9)\n"
     ]
    }
   ],
   "source": [
    "holdout20, crossval20, tank20 = sort_split(df20)\n",
    "print(holdout20.shape, crossval20.shape, tank20.shape)"
   ]
  },
  {
   "cell_type": "code",
   "execution_count": 60,
   "metadata": {},
   "outputs": [
    {
     "name": "stdout",
     "output_type": "stream",
     "text": [
      "(5540, 4) (5540, 1)\n"
     ]
    }
   ],
   "source": [
    "# sm.Logit()\n",
    "# sm.add_constant()\n",
    "X20 = crossval20[col_all].to_numpy()\n",
    "y20 = crossval20['made_purchase'].to_numpy().reshape(-1,1)\n",
    "print(X20.shape, y20.shape)"
   ]
  },
  {
   "cell_type": "code",
   "execution_count": 59,
   "metadata": {},
   "outputs": [
    {
     "data": {
      "text/html": [
       "<div>\n",
       "<style scoped>\n",
       "    .dataframe tbody tr th:only-of-type {\n",
       "        vertical-align: middle;\n",
       "    }\n",
       "\n",
       "    .dataframe tbody tr th {\n",
       "        vertical-align: top;\n",
       "    }\n",
       "\n",
       "    .dataframe thead th {\n",
       "        text-align: right;\n",
       "    }\n",
       "</style>\n",
       "<table border=\"1\" class=\"dataframe\">\n",
       "  <thead>\n",
       "    <tr style=\"text-align: right;\">\n",
       "      <th></th>\n",
       "      <th>product_count</th>\n",
       "      <th>addtocart</th>\n",
       "      <th>view</th>\n",
       "      <th>time_hour</th>\n",
       "    </tr>\n",
       "    <tr>\n",
       "      <th>visitorid</th>\n",
       "      <th></th>\n",
       "      <th></th>\n",
       "      <th></th>\n",
       "      <th></th>\n",
       "    </tr>\n",
       "  </thead>\n",
       "  <tbody>\n",
       "    <tr>\n",
       "      <th>1340751</th>\n",
       "      <td>1</td>\n",
       "      <td>0</td>\n",
       "      <td>2</td>\n",
       "      <td>120.808889</td>\n",
       "    </tr>\n",
       "    <tr>\n",
       "      <th>1062248</th>\n",
       "      <td>4</td>\n",
       "      <td>0</td>\n",
       "      <td>4</td>\n",
       "      <td>0.080278</td>\n",
       "    </tr>\n",
       "  </tbody>\n",
       "</table>\n",
       "</div>"
      ],
      "text/plain": [
       "           product_count  addtocart  view   time_hour\n",
       "visitorid                                            \n",
       "1340751                1          0     2  120.808889\n",
       "1062248                4          0     4    0.080278"
      ]
     },
     "execution_count": 59,
     "metadata": {},
     "output_type": "execute_result"
    }
   ],
   "source": [
    "# crossval20[col_all].head().to_numpy()\n",
    "crossval20[col_all].head(2)\n",
    "# crossval20['made_purchase'].head()"
   ]
  },
  {
   "cell_type": "code",
   "execution_count": 61,
   "metadata": {},
   "outputs": [],
   "source": [
    "# STANDARDIZE\n",
    "scaler = StandardScaler().fit(X20)\n",
    "X20stan = scaler.transform(X20)"
   ]
  },
  {
   "cell_type": "code",
   "execution_count": 52,
   "metadata": {},
   "outputs": [],
   "source": [
    "X20 = sm.add_constant(X20)\n",
    "logit20 = sm.Logit(y20, X20) # endog, exog"
   ]
  },
  {
   "cell_type": "markdown",
   "metadata": {},
   "source": [
    "Logit.fit(start_params=None, method='newton', maxiter=35, full_output=1, disp=1, callback=None, **kwargs)  \n",
    "https://www.statsmodels.org/stable/generated/statsmodels.discrete.discrete_model.Logit.fit.html#statsmodels.discrete.discrete_model.Logit.fit"
   ]
  },
  {
   "cell_type": "code",
   "execution_count": 54,
   "metadata": {},
   "outputs": [
    {
     "name": "stdout",
     "output_type": "stream",
     "text": [
      "Optimization terminated successfully.\n",
      "         Current function value: inf\n",
      "         Iterations 7\n"
     ]
    },
    {
     "name": "stderr",
     "output_type": "stream",
     "text": [
      "/home/scorpio/enter/lib/python3.7/site-packages/statsmodels/discrete/discrete_model.py:1789: RuntimeWarning: divide by zero encountered in log\n",
      "  return np.sum(np.log(self.cdf(q*np.dot(X,params))))\n"
     ]
    }
   ],
   "source": [
    "logit20_res = logit20.fit()"
   ]
  },
  {
   "cell_type": "code",
   "execution_count": 96,
   "metadata": {},
   "outputs": [
    {
     "name": "stdout",
     "output_type": "stream",
     "text": [
      "Parameters:  [-2.99400471e+00 -9.24578176e-02  1.88308965e+00  6.85438195e-02\n",
      " -2.18715904e-04]\n",
      "                       Results: Logit\n",
      "=============================================================\n",
      "Model:              Logit            Pseudo R-squared: inf   \n",
      "Dependent Variable: y                AIC:              inf   \n",
      "Date:               2020-02-06 20:22 BIC:              inf   \n",
      "No. Observations:   5540             Log-Likelihood:   -inf  \n",
      "Df Model:           4                LL-Null:          0.0000\n",
      "Df Residuals:       5535             LLR p-value:      1.0000\n",
      "Converged:          1.0000           Scale:            1.0000\n",
      "No. Iterations:     7.0000                                   \n",
      "--------------------------------------------------------------\n",
      "          Coef.   Std.Err.     z      P>|z|    [0.025   0.975]\n",
      "--------------------------------------------------------------\n",
      "const    -2.9940    0.0699  -42.8284  0.0000  -3.1310  -2.8570\n",
      "x1       -0.0925    0.0243   -3.7976  0.0001  -0.1402  -0.0447\n",
      "x2        1.8831    0.0826   22.8020  0.0000   1.7212   2.0450\n",
      "x3        0.0685    0.0177    3.8710  0.0001   0.0338   0.1032\n",
      "x4       -0.0002    0.0001   -1.7098  0.0873  -0.0005   0.0000\n",
      "=============================================================\n",
      "\n"
     ]
    }
   ],
   "source": [
    "print('Parameters: ', logit20_res.params)\n",
    "print(logit20_res.summary2())"
   ]
  },
  {
   "cell_type": "code",
   "execution_count": 58,
   "metadata": {},
   "outputs": [
    {
     "data": {
      "text/plain": [
       "array([           -inf,            -inf,            -inf,            -inf,\n",
       "        0.00000000e+00, -1.71286791e+00,            -inf,            -inf,\n",
       "                  -inf,            -inf, -1.37007653e+00,            -inf,\n",
       "                  -inf,            -inf, -6.42403836e+02,            -inf,\n",
       "       -3.44723624e+02,            -inf, -7.06787814e+02, -1.66581986e+00,\n",
       "                  -inf,            -inf,            -inf, -3.51225582e-01,\n",
       "       -1.41359130e+00,            -inf,            -inf,            -inf,\n",
       "       -3.77724571e-04,            -inf,            -inf,            -inf,\n",
       "                  -inf,            -inf,            -inf,            -inf,\n",
       "                  -inf,            -inf,            -inf,  0.00000000e+00,\n",
       "                  -inf,            -inf,            -inf, -3.88550471e-01,\n",
       "                  -inf,            -inf,            -inf, -2.89382664e+02,\n",
       "                  -inf,            -inf])"
      ]
     },
     "execution_count": 58,
     "metadata": {},
     "output_type": "execute_result"
    }
   ],
   "source": [
    "logit20.loglikeobs(logit20_res.params)[:50]"
   ]
  },
  {
   "cell_type": "code",
   "execution_count": 62,
   "metadata": {},
   "outputs": [
    {
     "name": "stdout",
     "output_type": "stream",
     "text": [
      "Optimization terminated successfully.\n",
      "         Current function value: inf\n",
      "         Iterations 7\n"
     ]
    },
    {
     "name": "stderr",
     "output_type": "stream",
     "text": [
      "/home/scorpio/enter/lib/python3.7/site-packages/statsmodels/discrete/discrete_model.py:1789: RuntimeWarning: divide by zero encountered in log\n",
      "  return np.sum(np.log(self.cdf(q*np.dot(X,params))))\n"
     ]
    }
   ],
   "source": [
    "X20stan = sm.add_constant(X20stan)\n",
    "logit20stan = sm.Logit(y20, X20stan) # endog, exog\n",
    "logit20stan_res = logit20stan.fit()"
   ]
  },
  {
   "cell_type": "code",
   "execution_count": 95,
   "metadata": {},
   "outputs": [
    {
     "name": "stdout",
     "output_type": "stream",
     "text": [
      "Parameters:  [-2.53437741 -0.72358836  2.09519975  0.73614315 -0.11129846]\n",
      "                       Results: Logit\n",
      "=============================================================\n",
      "Model:              Logit            Pseudo R-squared: inf   \n",
      "Dependent Variable: y                AIC:              inf   \n",
      "Date:               2020-02-06 20:22 BIC:              inf   \n",
      "No. Observations:   5540             Log-Likelihood:   -inf  \n",
      "Df Model:           4                LL-Null:          0.0000\n",
      "Df Residuals:       5535             LLR p-value:      1.0000\n",
      "Converged:          1.0000           Scale:            1.0000\n",
      "No. Iterations:     7.0000                                   \n",
      "--------------------------------------------------------------\n",
      "          Coef.   Std.Err.     z      P>|z|    [0.025   0.975]\n",
      "--------------------------------------------------------------\n",
      "const    -2.5344    0.0572  -44.3265  0.0000  -2.6464  -2.4223\n",
      "x1       -0.7236    0.1905   -3.7976  0.0001  -1.0970  -0.3501\n",
      "x2        2.0952    0.0919   22.8020  0.0000   1.9151   2.2753\n",
      "x3        0.7361    0.1902    3.8710  0.0001   0.3634   1.1089\n",
      "x4       -0.1113    0.0651   -1.7098  0.0873  -0.2389   0.0163\n",
      "=============================================================\n",
      "\n"
     ]
    }
   ],
   "source": [
    "print('Parameters: ', logit20stan_res.params)\n",
    "print(logit20stan_res.summary2())"
   ]
  },
  {
   "cell_type": "code",
   "execution_count": 71,
   "metadata": {},
   "outputs": [],
   "source": [
    "# logit20stan.loglikeobs(logit20stan_res.params)[:50]\n",
    "# exact same as unscaled"
   ]
  },
  {
   "cell_type": "code",
   "execution_count": 80,
   "metadata": {},
   "outputs": [
    {
     "name": "stdout",
     "output_type": "stream",
     "text": [
      "0.8946716853659036\n"
     ]
    },
    {
     "data": {
      "text/plain": [
       "array([0.07931108, 0.48500874, 8.12706421, 2.08786738, 0.89467169])"
      ]
     },
     "execution_count": 80,
     "metadata": {},
     "output_type": "execute_result"
    }
   ],
   "source": [
    "print(np.exp(-0.11129846))\n",
    "np.exp(logit20stan_res.params) # so addtocart & view makes the prediction"
   ]
  },
  {
   "cell_type": "code",
   "execution_count": 85,
   "metadata": {},
   "outputs": [
    {
     "data": {
      "text/plain": [
       "array([-0.1736138 , -0.41086118, -0.41095725, -0.32346313, -0.41092668,\n",
       "        2.93823953, -0.41047416, -0.41098346,  0.27395705, -0.41086937,\n",
       "       -0.31538153, -0.41093324,  2.37888283, -0.41088847, -0.35208251,\n",
       "        0.26348837,  2.74192471, -0.41101621, -0.40328015,  0.38608135])"
      ]
     },
     "execution_count": 85,
     "metadata": {},
     "output_type": "execute_result"
    }
   ],
   "source": [
    "X20stan[:20, 4]"
   ]
  },
  {
   "cell_type": "code",
   "execution_count": 102,
   "metadata": {},
   "outputs": [
    {
     "data": {
      "text/plain": [
       "array([0.04853131, 0.04353503, 0.04557109, 0.04711298, 0.9185278 ,\n",
       "       0.18034783, 0.04353324, 0.04557122, 0.03955094, 0.04557067])"
      ]
     },
     "execution_count": 102,
     "metadata": {},
     "output_type": "execute_result"
    }
   ],
   "source": [
    "X20stan_prob = logit20stan_res.predict(X20stan)\n",
    "X20stan_prob[:10]"
   ]
  },
  {
   "cell_type": "code",
   "execution_count": 84,
   "metadata": {},
   "outputs": [
    {
     "data": {
      "text/plain": [
       "array([[ 1.        ,  0.12535505,  2.46381328, -0.21778814, -0.41092668],\n",
       "       [ 1.        ,  0.50868551,  0.66628571,  0.43399641,  2.93823953]])"
      ]
     },
     "execution_count": 84,
     "metadata": {},
     "output_type": "execute_result"
    }
   ],
   "source": [
    "X20stan[4:6]"
   ]
  },
  {
   "cell_type": "code",
   "execution_count": 124,
   "metadata": {},
   "outputs": [
    {
     "name": "stdout",
     "output_type": "stream",
     "text": [
      "(5540,)\n"
     ]
    }
   ],
   "source": [
    "print(X20stan_prob.shape)\n",
    "X20stan_pred = np.uint8(X20stan_prob.reshape(-1,1) > 0.5)\n",
    "# X20stan_prob.reshape(-1,1) == 1"
   ]
  },
  {
   "cell_type": "code",
   "execution_count": 127,
   "metadata": {},
   "outputs": [
    {
     "data": {
      "text/plain": [
       "0.9095667870036102"
      ]
     },
     "execution_count": 127,
     "metadata": {},
     "output_type": "execute_result"
    }
   ],
   "source": [
    "accuracy_score(y20, X20stan_pred) # y_test, y_pred"
   ]
  },
  {
   "cell_type": "code",
   "execution_count": 126,
   "metadata": {},
   "outputs": [
    {
     "name": "stdout",
     "output_type": "stream",
     "text": [
      "(5540, 1) (5540, 1)\n",
      "Counter({0: 4984, 1: 556}) Counter({0: 5325, 1: 215})\n"
     ]
    }
   ],
   "source": [
    "print(y20.shape, X20stan_pred.shape)\n",
    "print(Counter(y20[:, 0]), Counter(X20stan_pred[:, 0]))"
   ]
  },
  {
   "cell_type": "code",
   "execution_count": 129,
   "metadata": {},
   "outputs": [
    {
     "name": "stdout",
     "output_type": "stream",
     "text": [
      "              precision    recall  f1-score   support\n",
      "\n",
      "           0       0.92      0.98      0.95      4984\n",
      "           1       0.63      0.24      0.35       556\n",
      "\n",
      "    accuracy                           0.91      5540\n",
      "   macro avg       0.77      0.61      0.65      5540\n",
      "weighted avg       0.89      0.91      0.89      5540\n",
      "\n"
     ]
    }
   ],
   "source": [
    "print(classification_report(y20, X20stan_pred))"
   ]
  },
  {
   "cell_type": "code",
   "execution_count": 130,
   "metadata": {},
   "outputs": [
    {
     "name": "stdout",
     "output_type": "stream",
     "text": [
      "[[4904   80]\n",
      " [ 421  135]]\n"
     ]
    }
   ],
   "source": [
    "print(confusion_matrix(y20, X20stan_pred))"
   ]
  },
  {
   "cell_type": "code",
   "execution_count": null,
   "metadata": {},
   "outputs": [],
   "source": []
  }
 ],
 "metadata": {
  "kernelspec": {
   "display_name": "Python 3",
   "language": "python",
   "name": "python3"
  },
  "language_info": {
   "codemirror_mode": {
    "name": "ipython",
    "version": 3
   },
   "file_extension": ".py",
   "mimetype": "text/x-python",
   "name": "python",
   "nbconvert_exporter": "python",
   "pygments_lexer": "ipython3",
   "version": "3.7.3"
  }
 },
 "nbformat": 4,
 "nbformat_minor": 2
}
